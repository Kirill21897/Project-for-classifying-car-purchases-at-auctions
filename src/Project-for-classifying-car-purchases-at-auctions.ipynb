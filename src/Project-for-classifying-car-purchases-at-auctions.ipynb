{
  "cells": [
    {
      "cell_type": "markdown",
      "source": [
        "##ML4 shilagel"
      ],
      "metadata": {
        "id": "LfyuHoKgRUNN"
      },
      "id": "LfyuHoKgRUNN"
    },
    {
      "cell_type": "markdown",
      "source": [
        "#### 1. Загрузка данных и подключение библиотек"
      ],
      "metadata": {
        "id": "9UnQ6FiyRjSw"
      },
      "id": "9UnQ6FiyRjSw"
    },
    {
      "cell_type": "markdown",
      "source": [
        "Подключение библиотек"
      ],
      "metadata": {
        "id": "t3wUkdAfTQRK"
      },
      "id": "t3wUkdAfTQRK"
    },
    {
      "cell_type": "code",
      "source": [
        "!pip install category_encoders"
      ],
      "metadata": {
        "colab": {
          "base_uri": "https://localhost:8080/"
        },
        "id": "yMMa58dLVzN-",
        "outputId": "618678c1-785f-4a2f-eabf-cf83a8ae65f9"
      },
      "id": "yMMa58dLVzN-",
      "execution_count": 7,
      "outputs": [
        {
          "output_type": "stream",
          "name": "stdout",
          "text": [
            "Collecting category_encoders\n",
            "  Downloading category_encoders-2.8.1-py3-none-any.whl.metadata (7.9 kB)\n",
            "Requirement already satisfied: numpy>=1.14.0 in /usr/local/lib/python3.11/dist-packages (from category_encoders) (2.0.2)\n",
            "Requirement already satisfied: pandas>=1.0.5 in /usr/local/lib/python3.11/dist-packages (from category_encoders) (2.2.2)\n",
            "Requirement already satisfied: patsy>=0.5.1 in /usr/local/lib/python3.11/dist-packages (from category_encoders) (1.0.1)\n",
            "Requirement already satisfied: scikit-learn>=1.6.0 in /usr/local/lib/python3.11/dist-packages (from category_encoders) (1.6.1)\n",
            "Requirement already satisfied: scipy>=1.0.0 in /usr/local/lib/python3.11/dist-packages (from category_encoders) (1.16.0)\n",
            "Requirement already satisfied: statsmodels>=0.9.0 in /usr/local/lib/python3.11/dist-packages (from category_encoders) (0.14.5)\n",
            "Requirement already satisfied: python-dateutil>=2.8.2 in /usr/local/lib/python3.11/dist-packages (from pandas>=1.0.5->category_encoders) (2.9.0.post0)\n",
            "Requirement already satisfied: pytz>=2020.1 in /usr/local/lib/python3.11/dist-packages (from pandas>=1.0.5->category_encoders) (2025.2)\n",
            "Requirement already satisfied: tzdata>=2022.7 in /usr/local/lib/python3.11/dist-packages (from pandas>=1.0.5->category_encoders) (2025.2)\n",
            "Requirement already satisfied: joblib>=1.2.0 in /usr/local/lib/python3.11/dist-packages (from scikit-learn>=1.6.0->category_encoders) (1.5.1)\n",
            "Requirement already satisfied: threadpoolctl>=3.1.0 in /usr/local/lib/python3.11/dist-packages (from scikit-learn>=1.6.0->category_encoders) (3.6.0)\n",
            "Requirement already satisfied: packaging>=21.3 in /usr/local/lib/python3.11/dist-packages (from statsmodels>=0.9.0->category_encoders) (25.0)\n",
            "Requirement already satisfied: six>=1.5 in /usr/local/lib/python3.11/dist-packages (from python-dateutil>=2.8.2->pandas>=1.0.5->category_encoders) (1.17.0)\n",
            "Downloading category_encoders-2.8.1-py3-none-any.whl (85 kB)\n",
            "\u001b[2K   \u001b[90m━━━━━━━━━━━━━━━━━━━━━━━━━━━━━━━━━━━━━━━━\u001b[0m \u001b[32m85.7/85.7 kB\u001b[0m \u001b[31m2.4 MB/s\u001b[0m eta \u001b[36m0:00:00\u001b[0m\n",
            "\u001b[?25hInstalling collected packages: category_encoders\n",
            "Successfully installed category_encoders-2.8.1\n"
          ]
        }
      ]
    },
    {
      "cell_type": "code",
      "execution_count": 8,
      "id": "2a62da87-28f3-4c4c-8cb4-89e4e3e107ad",
      "metadata": {
        "id": "2a62da87-28f3-4c4c-8cb4-89e4e3e107ad"
      },
      "outputs": [],
      "source": [
        "import numpy as np\n",
        "import pandas as pd\n",
        "from sklearn.model_selection import train_test_split\n",
        "from sklearn.preprocessing import LabelEncoder, StandardScaler\n",
        "from sklearn.linear_model import LogisticRegression\n",
        "from sklearn.naive_bayes import GaussianNB\n",
        "from sklearn.neighbors import KNeighborsClassifier\n",
        "from sklearn.metrics import roc_auc_score\n",
        "from sklearn.impute import SimpleImputer\n",
        "from sklearn.pipeline import Pipeline\n",
        "from sklearn.preprocessing import StandardScaler\n",
        "from sklearn.compose import ColumnTransformer\n",
        "import category_encoders as ce\n",
        "from category_encoders import CountEncoder\n",
        "\n",
        "import warnings\n",
        "warnings.filterwarnings('ignore')"
      ]
    },
    {
      "cell_type": "markdown",
      "source": [
        "Загрузка и чтение данных"
      ],
      "metadata": {
        "id": "zYs8Y40RTTpQ"
      },
      "id": "zYs8Y40RTTpQ"
    },
    {
      "cell_type": "code",
      "source": [
        "df = pd.read_csv('data/training.csv')\n",
        "df"
      ],
      "metadata": {
        "colab": {
          "base_uri": "https://localhost:8080/",
          "height": 739
        },
        "id": "25LDVOd9Ssc9",
        "outputId": "7df2334f-d565-454b-c2df-eeda54548406"
      },
      "id": "25LDVOd9Ssc9",
      "execution_count": 11,
      "outputs": [
        {
          "output_type": "execute_result",
          "data": {
            "text/plain": [
              "       RefId  IsBadBuy  PurchDate Auction  VehYear  VehicleAge       Make  \\\n",
              "0          1         0  12/7/2009   ADESA     2006           3      MAZDA   \n",
              "1          2         0  12/7/2009   ADESA     2004           5      DODGE   \n",
              "2          3         0  12/7/2009   ADESA     2005           4      DODGE   \n",
              "3          4         0  12/7/2009   ADESA     2004           5      DODGE   \n",
              "4          5         0  12/7/2009   ADESA     2005           4       FORD   \n",
              "...      ...       ...        ...     ...      ...         ...        ...   \n",
              "72978  73010         1  12/2/2009   ADESA     2001           8    MERCURY   \n",
              "72979  73011         0  12/2/2009   ADESA     2007           2  CHEVROLET   \n",
              "72980  73012         0  12/2/2009   ADESA     2005           4       JEEP   \n",
              "72981  73013         0  12/2/2009   ADESA     2006           3  CHEVROLET   \n",
              "72982  73014         0  12/2/2009   ADESA     2006           3      MAZDA   \n",
              "\n",
              "                      Model Trim           SubModel  ...  \\\n",
              "0                    MAZDA3    i         4D SEDAN I  ...   \n",
              "1       1500 RAM PICKUP 2WD   ST  QUAD CAB 4.7L SLT  ...   \n",
              "2                STRATUS V6  SXT   4D SEDAN SXT FFV  ...   \n",
              "3                      NEON  SXT           4D SEDAN  ...   \n",
              "4                     FOCUS  ZX3       2D COUPE ZX3  ...   \n",
              "...                     ...  ...                ...  ...   \n",
              "72978                 SABLE   GS        4D SEDAN GS  ...   \n",
              "72979             MALIBU 4C   LS        4D SEDAN LS  ...   \n",
              "72980  GRAND CHEROKEE 2WD V  Lar    4D WAGON LAREDO  ...   \n",
              "72981                IMPALA   LS        4D SEDAN LS  ...   \n",
              "72982                MAZDA6    s         4D SEDAN S  ...   \n",
              "\n",
              "      MMRCurrentRetailAveragePrice MMRCurrentRetailCleanPrice  PRIMEUNIT  \\\n",
              "0                          11597.0                    12409.0        NaN   \n",
              "1                          11374.0                    12791.0        NaN   \n",
              "2                           7146.0                     8702.0        NaN   \n",
              "3                           4375.0                     5518.0        NaN   \n",
              "4                           6739.0                     7911.0        NaN   \n",
              "...                            ...                        ...        ...   \n",
              "72978                       4836.0                     5937.0        NaN   \n",
              "72979                      10151.0                    11652.0        NaN   \n",
              "72980                      11831.0                    14402.0        NaN   \n",
              "72981                      10099.0                    11228.0        NaN   \n",
              "72982                      11954.0                    13246.0        NaN   \n",
              "\n",
              "      AUCGUART  BYRNO VNZIP1 VNST VehBCost  IsOnlineSale  WarrantyCost  \n",
              "0          NaN  21973  33619   FL   7100.0             0          1113  \n",
              "1          NaN  19638  33619   FL   7600.0             0          1053  \n",
              "2          NaN  19638  33619   FL   4900.0             0          1389  \n",
              "3          NaN  19638  33619   FL   4100.0             0           630  \n",
              "4          NaN  19638  33619   FL   4000.0             0          1020  \n",
              "...        ...    ...    ...  ...      ...           ...           ...  \n",
              "72978      NaN  18111  30212   GA   4200.0             0           993  \n",
              "72979      NaN  18881  30212   GA   6200.0             0          1038  \n",
              "72980      NaN  18111  30212   GA   8200.0             0          1893  \n",
              "72981      NaN  18881  30212   GA   7000.0             0          1974  \n",
              "72982      NaN  18111  30212   GA   8000.0             0          1313  \n",
              "\n",
              "[72983 rows x 34 columns]"
            ],
            "text/html": [
              "\n",
              "  <div id=\"df-52beb091-f14d-4936-a3a5-497f6669c351\" class=\"colab-df-container\">\n",
              "    <div>\n",
              "<style scoped>\n",
              "    .dataframe tbody tr th:only-of-type {\n",
              "        vertical-align: middle;\n",
              "    }\n",
              "\n",
              "    .dataframe tbody tr th {\n",
              "        vertical-align: top;\n",
              "    }\n",
              "\n",
              "    .dataframe thead th {\n",
              "        text-align: right;\n",
              "    }\n",
              "</style>\n",
              "<table border=\"1\" class=\"dataframe\">\n",
              "  <thead>\n",
              "    <tr style=\"text-align: right;\">\n",
              "      <th></th>\n",
              "      <th>RefId</th>\n",
              "      <th>IsBadBuy</th>\n",
              "      <th>PurchDate</th>\n",
              "      <th>Auction</th>\n",
              "      <th>VehYear</th>\n",
              "      <th>VehicleAge</th>\n",
              "      <th>Make</th>\n",
              "      <th>Model</th>\n",
              "      <th>Trim</th>\n",
              "      <th>SubModel</th>\n",
              "      <th>...</th>\n",
              "      <th>MMRCurrentRetailAveragePrice</th>\n",
              "      <th>MMRCurrentRetailCleanPrice</th>\n",
              "      <th>PRIMEUNIT</th>\n",
              "      <th>AUCGUART</th>\n",
              "      <th>BYRNO</th>\n",
              "      <th>VNZIP1</th>\n",
              "      <th>VNST</th>\n",
              "      <th>VehBCost</th>\n",
              "      <th>IsOnlineSale</th>\n",
              "      <th>WarrantyCost</th>\n",
              "    </tr>\n",
              "  </thead>\n",
              "  <tbody>\n",
              "    <tr>\n",
              "      <th>0</th>\n",
              "      <td>1</td>\n",
              "      <td>0</td>\n",
              "      <td>12/7/2009</td>\n",
              "      <td>ADESA</td>\n",
              "      <td>2006</td>\n",
              "      <td>3</td>\n",
              "      <td>MAZDA</td>\n",
              "      <td>MAZDA3</td>\n",
              "      <td>i</td>\n",
              "      <td>4D SEDAN I</td>\n",
              "      <td>...</td>\n",
              "      <td>11597.0</td>\n",
              "      <td>12409.0</td>\n",
              "      <td>NaN</td>\n",
              "      <td>NaN</td>\n",
              "      <td>21973</td>\n",
              "      <td>33619</td>\n",
              "      <td>FL</td>\n",
              "      <td>7100.0</td>\n",
              "      <td>0</td>\n",
              "      <td>1113</td>\n",
              "    </tr>\n",
              "    <tr>\n",
              "      <th>1</th>\n",
              "      <td>2</td>\n",
              "      <td>0</td>\n",
              "      <td>12/7/2009</td>\n",
              "      <td>ADESA</td>\n",
              "      <td>2004</td>\n",
              "      <td>5</td>\n",
              "      <td>DODGE</td>\n",
              "      <td>1500 RAM PICKUP 2WD</td>\n",
              "      <td>ST</td>\n",
              "      <td>QUAD CAB 4.7L SLT</td>\n",
              "      <td>...</td>\n",
              "      <td>11374.0</td>\n",
              "      <td>12791.0</td>\n",
              "      <td>NaN</td>\n",
              "      <td>NaN</td>\n",
              "      <td>19638</td>\n",
              "      <td>33619</td>\n",
              "      <td>FL</td>\n",
              "      <td>7600.0</td>\n",
              "      <td>0</td>\n",
              "      <td>1053</td>\n",
              "    </tr>\n",
              "    <tr>\n",
              "      <th>2</th>\n",
              "      <td>3</td>\n",
              "      <td>0</td>\n",
              "      <td>12/7/2009</td>\n",
              "      <td>ADESA</td>\n",
              "      <td>2005</td>\n",
              "      <td>4</td>\n",
              "      <td>DODGE</td>\n",
              "      <td>STRATUS V6</td>\n",
              "      <td>SXT</td>\n",
              "      <td>4D SEDAN SXT FFV</td>\n",
              "      <td>...</td>\n",
              "      <td>7146.0</td>\n",
              "      <td>8702.0</td>\n",
              "      <td>NaN</td>\n",
              "      <td>NaN</td>\n",
              "      <td>19638</td>\n",
              "      <td>33619</td>\n",
              "      <td>FL</td>\n",
              "      <td>4900.0</td>\n",
              "      <td>0</td>\n",
              "      <td>1389</td>\n",
              "    </tr>\n",
              "    <tr>\n",
              "      <th>3</th>\n",
              "      <td>4</td>\n",
              "      <td>0</td>\n",
              "      <td>12/7/2009</td>\n",
              "      <td>ADESA</td>\n",
              "      <td>2004</td>\n",
              "      <td>5</td>\n",
              "      <td>DODGE</td>\n",
              "      <td>NEON</td>\n",
              "      <td>SXT</td>\n",
              "      <td>4D SEDAN</td>\n",
              "      <td>...</td>\n",
              "      <td>4375.0</td>\n",
              "      <td>5518.0</td>\n",
              "      <td>NaN</td>\n",
              "      <td>NaN</td>\n",
              "      <td>19638</td>\n",
              "      <td>33619</td>\n",
              "      <td>FL</td>\n",
              "      <td>4100.0</td>\n",
              "      <td>0</td>\n",
              "      <td>630</td>\n",
              "    </tr>\n",
              "    <tr>\n",
              "      <th>4</th>\n",
              "      <td>5</td>\n",
              "      <td>0</td>\n",
              "      <td>12/7/2009</td>\n",
              "      <td>ADESA</td>\n",
              "      <td>2005</td>\n",
              "      <td>4</td>\n",
              "      <td>FORD</td>\n",
              "      <td>FOCUS</td>\n",
              "      <td>ZX3</td>\n",
              "      <td>2D COUPE ZX3</td>\n",
              "      <td>...</td>\n",
              "      <td>6739.0</td>\n",
              "      <td>7911.0</td>\n",
              "      <td>NaN</td>\n",
              "      <td>NaN</td>\n",
              "      <td>19638</td>\n",
              "      <td>33619</td>\n",
              "      <td>FL</td>\n",
              "      <td>4000.0</td>\n",
              "      <td>0</td>\n",
              "      <td>1020</td>\n",
              "    </tr>\n",
              "    <tr>\n",
              "      <th>...</th>\n",
              "      <td>...</td>\n",
              "      <td>...</td>\n",
              "      <td>...</td>\n",
              "      <td>...</td>\n",
              "      <td>...</td>\n",
              "      <td>...</td>\n",
              "      <td>...</td>\n",
              "      <td>...</td>\n",
              "      <td>...</td>\n",
              "      <td>...</td>\n",
              "      <td>...</td>\n",
              "      <td>...</td>\n",
              "      <td>...</td>\n",
              "      <td>...</td>\n",
              "      <td>...</td>\n",
              "      <td>...</td>\n",
              "      <td>...</td>\n",
              "      <td>...</td>\n",
              "      <td>...</td>\n",
              "      <td>...</td>\n",
              "      <td>...</td>\n",
              "    </tr>\n",
              "    <tr>\n",
              "      <th>72978</th>\n",
              "      <td>73010</td>\n",
              "      <td>1</td>\n",
              "      <td>12/2/2009</td>\n",
              "      <td>ADESA</td>\n",
              "      <td>2001</td>\n",
              "      <td>8</td>\n",
              "      <td>MERCURY</td>\n",
              "      <td>SABLE</td>\n",
              "      <td>GS</td>\n",
              "      <td>4D SEDAN GS</td>\n",
              "      <td>...</td>\n",
              "      <td>4836.0</td>\n",
              "      <td>5937.0</td>\n",
              "      <td>NaN</td>\n",
              "      <td>NaN</td>\n",
              "      <td>18111</td>\n",
              "      <td>30212</td>\n",
              "      <td>GA</td>\n",
              "      <td>4200.0</td>\n",
              "      <td>0</td>\n",
              "      <td>993</td>\n",
              "    </tr>\n",
              "    <tr>\n",
              "      <th>72979</th>\n",
              "      <td>73011</td>\n",
              "      <td>0</td>\n",
              "      <td>12/2/2009</td>\n",
              "      <td>ADESA</td>\n",
              "      <td>2007</td>\n",
              "      <td>2</td>\n",
              "      <td>CHEVROLET</td>\n",
              "      <td>MALIBU 4C</td>\n",
              "      <td>LS</td>\n",
              "      <td>4D SEDAN LS</td>\n",
              "      <td>...</td>\n",
              "      <td>10151.0</td>\n",
              "      <td>11652.0</td>\n",
              "      <td>NaN</td>\n",
              "      <td>NaN</td>\n",
              "      <td>18881</td>\n",
              "      <td>30212</td>\n",
              "      <td>GA</td>\n",
              "      <td>6200.0</td>\n",
              "      <td>0</td>\n",
              "      <td>1038</td>\n",
              "    </tr>\n",
              "    <tr>\n",
              "      <th>72980</th>\n",
              "      <td>73012</td>\n",
              "      <td>0</td>\n",
              "      <td>12/2/2009</td>\n",
              "      <td>ADESA</td>\n",
              "      <td>2005</td>\n",
              "      <td>4</td>\n",
              "      <td>JEEP</td>\n",
              "      <td>GRAND CHEROKEE 2WD V</td>\n",
              "      <td>Lar</td>\n",
              "      <td>4D WAGON LAREDO</td>\n",
              "      <td>...</td>\n",
              "      <td>11831.0</td>\n",
              "      <td>14402.0</td>\n",
              "      <td>NaN</td>\n",
              "      <td>NaN</td>\n",
              "      <td>18111</td>\n",
              "      <td>30212</td>\n",
              "      <td>GA</td>\n",
              "      <td>8200.0</td>\n",
              "      <td>0</td>\n",
              "      <td>1893</td>\n",
              "    </tr>\n",
              "    <tr>\n",
              "      <th>72981</th>\n",
              "      <td>73013</td>\n",
              "      <td>0</td>\n",
              "      <td>12/2/2009</td>\n",
              "      <td>ADESA</td>\n",
              "      <td>2006</td>\n",
              "      <td>3</td>\n",
              "      <td>CHEVROLET</td>\n",
              "      <td>IMPALA</td>\n",
              "      <td>LS</td>\n",
              "      <td>4D SEDAN LS</td>\n",
              "      <td>...</td>\n",
              "      <td>10099.0</td>\n",
              "      <td>11228.0</td>\n",
              "      <td>NaN</td>\n",
              "      <td>NaN</td>\n",
              "      <td>18881</td>\n",
              "      <td>30212</td>\n",
              "      <td>GA</td>\n",
              "      <td>7000.0</td>\n",
              "      <td>0</td>\n",
              "      <td>1974</td>\n",
              "    </tr>\n",
              "    <tr>\n",
              "      <th>72982</th>\n",
              "      <td>73014</td>\n",
              "      <td>0</td>\n",
              "      <td>12/2/2009</td>\n",
              "      <td>ADESA</td>\n",
              "      <td>2006</td>\n",
              "      <td>3</td>\n",
              "      <td>MAZDA</td>\n",
              "      <td>MAZDA6</td>\n",
              "      <td>s</td>\n",
              "      <td>4D SEDAN S</td>\n",
              "      <td>...</td>\n",
              "      <td>11954.0</td>\n",
              "      <td>13246.0</td>\n",
              "      <td>NaN</td>\n",
              "      <td>NaN</td>\n",
              "      <td>18111</td>\n",
              "      <td>30212</td>\n",
              "      <td>GA</td>\n",
              "      <td>8000.0</td>\n",
              "      <td>0</td>\n",
              "      <td>1313</td>\n",
              "    </tr>\n",
              "  </tbody>\n",
              "</table>\n",
              "<p>72983 rows × 34 columns</p>\n",
              "</div>\n",
              "    <div class=\"colab-df-buttons\">\n",
              "\n",
              "  <div class=\"colab-df-container\">\n",
              "    <button class=\"colab-df-convert\" onclick=\"convertToInteractive('df-52beb091-f14d-4936-a3a5-497f6669c351')\"\n",
              "            title=\"Convert this dataframe to an interactive table.\"\n",
              "            style=\"display:none;\">\n",
              "\n",
              "  <svg xmlns=\"http://www.w3.org/2000/svg\" height=\"24px\" viewBox=\"0 -960 960 960\">\n",
              "    <path d=\"M120-120v-720h720v720H120Zm60-500h600v-160H180v160Zm220 220h160v-160H400v160Zm0 220h160v-160H400v160ZM180-400h160v-160H180v160Zm440 0h160v-160H620v160ZM180-180h160v-160H180v160Zm440 0h160v-160H620v160Z\"/>\n",
              "  </svg>\n",
              "    </button>\n",
              "\n",
              "  <style>\n",
              "    .colab-df-container {\n",
              "      display:flex;\n",
              "      gap: 12px;\n",
              "    }\n",
              "\n",
              "    .colab-df-convert {\n",
              "      background-color: #E8F0FE;\n",
              "      border: none;\n",
              "      border-radius: 50%;\n",
              "      cursor: pointer;\n",
              "      display: none;\n",
              "      fill: #1967D2;\n",
              "      height: 32px;\n",
              "      padding: 0 0 0 0;\n",
              "      width: 32px;\n",
              "    }\n",
              "\n",
              "    .colab-df-convert:hover {\n",
              "      background-color: #E2EBFA;\n",
              "      box-shadow: 0px 1px 2px rgba(60, 64, 67, 0.3), 0px 1px 3px 1px rgba(60, 64, 67, 0.15);\n",
              "      fill: #174EA6;\n",
              "    }\n",
              "\n",
              "    .colab-df-buttons div {\n",
              "      margin-bottom: 4px;\n",
              "    }\n",
              "\n",
              "    [theme=dark] .colab-df-convert {\n",
              "      background-color: #3B4455;\n",
              "      fill: #D2E3FC;\n",
              "    }\n",
              "\n",
              "    [theme=dark] .colab-df-convert:hover {\n",
              "      background-color: #434B5C;\n",
              "      box-shadow: 0px 1px 3px 1px rgba(0, 0, 0, 0.15);\n",
              "      filter: drop-shadow(0px 1px 2px rgba(0, 0, 0, 0.3));\n",
              "      fill: #FFFFFF;\n",
              "    }\n",
              "  </style>\n",
              "\n",
              "    <script>\n",
              "      const buttonEl =\n",
              "        document.querySelector('#df-52beb091-f14d-4936-a3a5-497f6669c351 button.colab-df-convert');\n",
              "      buttonEl.style.display =\n",
              "        google.colab.kernel.accessAllowed ? 'block' : 'none';\n",
              "\n",
              "      async function convertToInteractive(key) {\n",
              "        const element = document.querySelector('#df-52beb091-f14d-4936-a3a5-497f6669c351');\n",
              "        const dataTable =\n",
              "          await google.colab.kernel.invokeFunction('convertToInteractive',\n",
              "                                                    [key], {});\n",
              "        if (!dataTable) return;\n",
              "\n",
              "        const docLinkHtml = 'Like what you see? Visit the ' +\n",
              "          '<a target=\"_blank\" href=https://colab.research.google.com/notebooks/data_table.ipynb>data table notebook</a>'\n",
              "          + ' to learn more about interactive tables.';\n",
              "        element.innerHTML = '';\n",
              "        dataTable['output_type'] = 'display_data';\n",
              "        await google.colab.output.renderOutput(dataTable, element);\n",
              "        const docLink = document.createElement('div');\n",
              "        docLink.innerHTML = docLinkHtml;\n",
              "        element.appendChild(docLink);\n",
              "      }\n",
              "    </script>\n",
              "  </div>\n",
              "\n",
              "\n",
              "    <div id=\"df-9a011bc8-db2d-41a7-8012-1450c25fadd8\">\n",
              "      <button class=\"colab-df-quickchart\" onclick=\"quickchart('df-9a011bc8-db2d-41a7-8012-1450c25fadd8')\"\n",
              "                title=\"Suggest charts\"\n",
              "                style=\"display:none;\">\n",
              "\n",
              "<svg xmlns=\"http://www.w3.org/2000/svg\" height=\"24px\"viewBox=\"0 0 24 24\"\n",
              "     width=\"24px\">\n",
              "    <g>\n",
              "        <path d=\"M19 3H5c-1.1 0-2 .9-2 2v14c0 1.1.9 2 2 2h14c1.1 0 2-.9 2-2V5c0-1.1-.9-2-2-2zM9 17H7v-7h2v7zm4 0h-2V7h2v10zm4 0h-2v-4h2v4z\"/>\n",
              "    </g>\n",
              "</svg>\n",
              "      </button>\n",
              "\n",
              "<style>\n",
              "  .colab-df-quickchart {\n",
              "      --bg-color: #E8F0FE;\n",
              "      --fill-color: #1967D2;\n",
              "      --hover-bg-color: #E2EBFA;\n",
              "      --hover-fill-color: #174EA6;\n",
              "      --disabled-fill-color: #AAA;\n",
              "      --disabled-bg-color: #DDD;\n",
              "  }\n",
              "\n",
              "  [theme=dark] .colab-df-quickchart {\n",
              "      --bg-color: #3B4455;\n",
              "      --fill-color: #D2E3FC;\n",
              "      --hover-bg-color: #434B5C;\n",
              "      --hover-fill-color: #FFFFFF;\n",
              "      --disabled-bg-color: #3B4455;\n",
              "      --disabled-fill-color: #666;\n",
              "  }\n",
              "\n",
              "  .colab-df-quickchart {\n",
              "    background-color: var(--bg-color);\n",
              "    border: none;\n",
              "    border-radius: 50%;\n",
              "    cursor: pointer;\n",
              "    display: none;\n",
              "    fill: var(--fill-color);\n",
              "    height: 32px;\n",
              "    padding: 0;\n",
              "    width: 32px;\n",
              "  }\n",
              "\n",
              "  .colab-df-quickchart:hover {\n",
              "    background-color: var(--hover-bg-color);\n",
              "    box-shadow: 0 1px 2px rgba(60, 64, 67, 0.3), 0 1px 3px 1px rgba(60, 64, 67, 0.15);\n",
              "    fill: var(--button-hover-fill-color);\n",
              "  }\n",
              "\n",
              "  .colab-df-quickchart-complete:disabled,\n",
              "  .colab-df-quickchart-complete:disabled:hover {\n",
              "    background-color: var(--disabled-bg-color);\n",
              "    fill: var(--disabled-fill-color);\n",
              "    box-shadow: none;\n",
              "  }\n",
              "\n",
              "  .colab-df-spinner {\n",
              "    border: 2px solid var(--fill-color);\n",
              "    border-color: transparent;\n",
              "    border-bottom-color: var(--fill-color);\n",
              "    animation:\n",
              "      spin 1s steps(1) infinite;\n",
              "  }\n",
              "\n",
              "  @keyframes spin {\n",
              "    0% {\n",
              "      border-color: transparent;\n",
              "      border-bottom-color: var(--fill-color);\n",
              "      border-left-color: var(--fill-color);\n",
              "    }\n",
              "    20% {\n",
              "      border-color: transparent;\n",
              "      border-left-color: var(--fill-color);\n",
              "      border-top-color: var(--fill-color);\n",
              "    }\n",
              "    30% {\n",
              "      border-color: transparent;\n",
              "      border-left-color: var(--fill-color);\n",
              "      border-top-color: var(--fill-color);\n",
              "      border-right-color: var(--fill-color);\n",
              "    }\n",
              "    40% {\n",
              "      border-color: transparent;\n",
              "      border-right-color: var(--fill-color);\n",
              "      border-top-color: var(--fill-color);\n",
              "    }\n",
              "    60% {\n",
              "      border-color: transparent;\n",
              "      border-right-color: var(--fill-color);\n",
              "    }\n",
              "    80% {\n",
              "      border-color: transparent;\n",
              "      border-right-color: var(--fill-color);\n",
              "      border-bottom-color: var(--fill-color);\n",
              "    }\n",
              "    90% {\n",
              "      border-color: transparent;\n",
              "      border-bottom-color: var(--fill-color);\n",
              "    }\n",
              "  }\n",
              "</style>\n",
              "\n",
              "      <script>\n",
              "        async function quickchart(key) {\n",
              "          const quickchartButtonEl =\n",
              "            document.querySelector('#' + key + ' button');\n",
              "          quickchartButtonEl.disabled = true;  // To prevent multiple clicks.\n",
              "          quickchartButtonEl.classList.add('colab-df-spinner');\n",
              "          try {\n",
              "            const charts = await google.colab.kernel.invokeFunction(\n",
              "                'suggestCharts', [key], {});\n",
              "          } catch (error) {\n",
              "            console.error('Error during call to suggestCharts:', error);\n",
              "          }\n",
              "          quickchartButtonEl.classList.remove('colab-df-spinner');\n",
              "          quickchartButtonEl.classList.add('colab-df-quickchart-complete');\n",
              "        }\n",
              "        (() => {\n",
              "          let quickchartButtonEl =\n",
              "            document.querySelector('#df-9a011bc8-db2d-41a7-8012-1450c25fadd8 button');\n",
              "          quickchartButtonEl.style.display =\n",
              "            google.colab.kernel.accessAllowed ? 'block' : 'none';\n",
              "        })();\n",
              "      </script>\n",
              "    </div>\n",
              "    </div>\n",
              "  </div>\n"
            ],
            "application/vnd.google.colaboratory.intrinsic+json": {
              "type": "dataframe",
              "variable_name": "df"
            }
          },
          "metadata": {},
          "execution_count": 11
        }
      ]
    },
    {
      "cell_type": "markdown",
      "source": [
        "### 2. Разделение данных на training, validation, test"
      ],
      "metadata": {
        "id": "kDgzT52lUNsS"
      },
      "id": "kDgzT52lUNsS"
    },
    {
      "cell_type": "markdown",
      "source": [
        "Преобразуем дату покупки"
      ],
      "metadata": {
        "id": "eKusEb_nUlEx"
      },
      "id": "eKusEb_nUlEx"
    },
    {
      "cell_type": "code",
      "source": [
        "df['PurchDate'] = pd.to_datetime(df['PurchDate'])"
      ],
      "metadata": {
        "id": "iqVR8ksSUhfM"
      },
      "id": "iqVR8ksSUhfM",
      "execution_count": 12,
      "outputs": []
    },
    {
      "cell_type": "markdown",
      "source": [
        "Сортируем по дате"
      ],
      "metadata": {
        "id": "QoofwB7oUx5a"
      },
      "id": "QoofwB7oUx5a"
    },
    {
      "cell_type": "code",
      "source": [
        "df = df.sort_values('PurchDate').reset_index(drop=True)\n",
        "df"
      ],
      "metadata": {
        "colab": {
          "base_uri": "https://localhost:8080/",
          "height": 652
        },
        "id": "n6wDzIixU1PN",
        "outputId": "04691af3-0b2e-480d-d20f-58226dced1ab"
      },
      "id": "n6wDzIixU1PN",
      "execution_count": 13,
      "outputs": [
        {
          "output_type": "execute_result",
          "data": {
            "text/plain": [
              "       RefId  IsBadBuy  PurchDate  Auction  VehYear  VehicleAge       Make  \\\n",
              "0      32389         0 2009-01-05  MANHEIM     2007           2   CHRYSLER   \n",
              "1      32406         0 2009-01-05  MANHEIM     2005           4       FORD   \n",
              "2      32407         0 2009-01-05  MANHEIM     2004           5      DODGE   \n",
              "3      32408         0 2009-01-05  MANHEIM     2006           3  CHEVROLET   \n",
              "4      32409         0 2009-01-05  MANHEIM     2004           5       FORD   \n",
              "...      ...       ...        ...      ...      ...         ...        ...   \n",
              "72978  68095         0 2010-12-30    ADESA     2006           4     SUZUKI   \n",
              "72979  68096         1 2010-12-30    ADESA     2006           4     SUZUKI   \n",
              "72980  68097         1 2010-12-30    ADESA     2005           5       FORD   \n",
              "72981  60722         1 2010-12-30  MANHEIM     2005           5  CHEVROLET   \n",
              "72982  70453         0 2010-12-30    ADESA     2003           7   CADILLAC   \n",
              "\n",
              "                      Model Trim               SubModel  ...  \\\n",
              "0      PACIFICA FWD 3.8L V6  Bas               4D SPORT  ...   \n",
              "1      FREESTAR FWD V6 3.9L  SES  4D PASSENGER 3.9L SES  ...   \n",
              "2      STRATUS 4C 2.4L I4 M   SE            4D SEDAN SE  ...   \n",
              "3       TRAILBLAZER EXT 4WD   LS            4D SUV 4.2L  ...   \n",
              "4        TAURUS 3.0L V6 EFI  SES   4D SEDAN SES DURATEC  ...   \n",
              "...                     ...  ...                    ...  ...   \n",
              "72978                 AERIO   SX            4D WAGON SX  ...   \n",
              "72979      GRAND VITARA 2WD  NaN       4D SPORT UTILITY  ...   \n",
              "72980                TAURUS   SE            4D SEDAN SE  ...   \n",
              "72981             MALIBU 4C  Cla       4D SEDAN CLASSIC  ...   \n",
              "72982                   CTS  NaN               4D SEDAN  ...   \n",
              "\n",
              "      MMRCurrentRetailAveragePrice MMRCurrentRetailCleanPrice  PRIMEUNIT  \\\n",
              "0                           9906.0                    11657.0        NaN   \n",
              "1                           5801.0                     6949.0        NaN   \n",
              "2                           4169.0                     5114.0        NaN   \n",
              "3                          10438.0                    12158.0        NaN   \n",
              "4                           4139.0                     5351.0        NaN   \n",
              "...                            ...                        ...        ...   \n",
              "72978                       7601.0                     8041.0        NaN   \n",
              "72979                      11114.0                    11830.0        NaN   \n",
              "72980                       6476.0                     9005.0         NO   \n",
              "72981                       6908.0                     8446.0        NaN   \n",
              "72982                       9699.0                    11190.0        NaN   \n",
              "\n",
              "      AUCGUART  BYRNO VNZIP1 VNST VehBCost  IsOnlineSale  WarrantyCost  \n",
              "0          NaN   3453  80022   CO   6770.0             0          1389  \n",
              "1          NaN  22916  80022   CO   6160.0             0           941  \n",
              "2          NaN   3453  80022   CO   4250.0             0          1155  \n",
              "3          NaN  22916  80022   CO   8180.0             0          1703  \n",
              "4          NaN  22916  80022   CO   4900.0             0           825  \n",
              "...        ...    ...    ...  ...      ...           ...           ...  \n",
              "72978      NaN  52598  28273   NC   4500.0             0           983  \n",
              "72979      NaN  52598  28273   NC   7470.0             0           920  \n",
              "72980    GREEN  52598  28273   NC   4130.0             0          1053  \n",
              "72981      NaN  21047  92337   CA   4395.0             0          1243  \n",
              "72982      NaN  20740  32219   FL   9600.0             0          2063  \n",
              "\n",
              "[72983 rows x 34 columns]"
            ],
            "text/html": [
              "\n",
              "  <div id=\"df-8ced6db9-725f-4064-b2e8-a0b8035879e2\" class=\"colab-df-container\">\n",
              "    <div>\n",
              "<style scoped>\n",
              "    .dataframe tbody tr th:only-of-type {\n",
              "        vertical-align: middle;\n",
              "    }\n",
              "\n",
              "    .dataframe tbody tr th {\n",
              "        vertical-align: top;\n",
              "    }\n",
              "\n",
              "    .dataframe thead th {\n",
              "        text-align: right;\n",
              "    }\n",
              "</style>\n",
              "<table border=\"1\" class=\"dataframe\">\n",
              "  <thead>\n",
              "    <tr style=\"text-align: right;\">\n",
              "      <th></th>\n",
              "      <th>RefId</th>\n",
              "      <th>IsBadBuy</th>\n",
              "      <th>PurchDate</th>\n",
              "      <th>Auction</th>\n",
              "      <th>VehYear</th>\n",
              "      <th>VehicleAge</th>\n",
              "      <th>Make</th>\n",
              "      <th>Model</th>\n",
              "      <th>Trim</th>\n",
              "      <th>SubModel</th>\n",
              "      <th>...</th>\n",
              "      <th>MMRCurrentRetailAveragePrice</th>\n",
              "      <th>MMRCurrentRetailCleanPrice</th>\n",
              "      <th>PRIMEUNIT</th>\n",
              "      <th>AUCGUART</th>\n",
              "      <th>BYRNO</th>\n",
              "      <th>VNZIP1</th>\n",
              "      <th>VNST</th>\n",
              "      <th>VehBCost</th>\n",
              "      <th>IsOnlineSale</th>\n",
              "      <th>WarrantyCost</th>\n",
              "    </tr>\n",
              "  </thead>\n",
              "  <tbody>\n",
              "    <tr>\n",
              "      <th>0</th>\n",
              "      <td>32389</td>\n",
              "      <td>0</td>\n",
              "      <td>2009-01-05</td>\n",
              "      <td>MANHEIM</td>\n",
              "      <td>2007</td>\n",
              "      <td>2</td>\n",
              "      <td>CHRYSLER</td>\n",
              "      <td>PACIFICA FWD 3.8L V6</td>\n",
              "      <td>Bas</td>\n",
              "      <td>4D SPORT</td>\n",
              "      <td>...</td>\n",
              "      <td>9906.0</td>\n",
              "      <td>11657.0</td>\n",
              "      <td>NaN</td>\n",
              "      <td>NaN</td>\n",
              "      <td>3453</td>\n",
              "      <td>80022</td>\n",
              "      <td>CO</td>\n",
              "      <td>6770.0</td>\n",
              "      <td>0</td>\n",
              "      <td>1389</td>\n",
              "    </tr>\n",
              "    <tr>\n",
              "      <th>1</th>\n",
              "      <td>32406</td>\n",
              "      <td>0</td>\n",
              "      <td>2009-01-05</td>\n",
              "      <td>MANHEIM</td>\n",
              "      <td>2005</td>\n",
              "      <td>4</td>\n",
              "      <td>FORD</td>\n",
              "      <td>FREESTAR FWD V6 3.9L</td>\n",
              "      <td>SES</td>\n",
              "      <td>4D PASSENGER 3.9L SES</td>\n",
              "      <td>...</td>\n",
              "      <td>5801.0</td>\n",
              "      <td>6949.0</td>\n",
              "      <td>NaN</td>\n",
              "      <td>NaN</td>\n",
              "      <td>22916</td>\n",
              "      <td>80022</td>\n",
              "      <td>CO</td>\n",
              "      <td>6160.0</td>\n",
              "      <td>0</td>\n",
              "      <td>941</td>\n",
              "    </tr>\n",
              "    <tr>\n",
              "      <th>2</th>\n",
              "      <td>32407</td>\n",
              "      <td>0</td>\n",
              "      <td>2009-01-05</td>\n",
              "      <td>MANHEIM</td>\n",
              "      <td>2004</td>\n",
              "      <td>5</td>\n",
              "      <td>DODGE</td>\n",
              "      <td>STRATUS 4C 2.4L I4 M</td>\n",
              "      <td>SE</td>\n",
              "      <td>4D SEDAN SE</td>\n",
              "      <td>...</td>\n",
              "      <td>4169.0</td>\n",
              "      <td>5114.0</td>\n",
              "      <td>NaN</td>\n",
              "      <td>NaN</td>\n",
              "      <td>3453</td>\n",
              "      <td>80022</td>\n",
              "      <td>CO</td>\n",
              "      <td>4250.0</td>\n",
              "      <td>0</td>\n",
              "      <td>1155</td>\n",
              "    </tr>\n",
              "    <tr>\n",
              "      <th>3</th>\n",
              "      <td>32408</td>\n",
              "      <td>0</td>\n",
              "      <td>2009-01-05</td>\n",
              "      <td>MANHEIM</td>\n",
              "      <td>2006</td>\n",
              "      <td>3</td>\n",
              "      <td>CHEVROLET</td>\n",
              "      <td>TRAILBLAZER EXT 4WD</td>\n",
              "      <td>LS</td>\n",
              "      <td>4D SUV 4.2L</td>\n",
              "      <td>...</td>\n",
              "      <td>10438.0</td>\n",
              "      <td>12158.0</td>\n",
              "      <td>NaN</td>\n",
              "      <td>NaN</td>\n",
              "      <td>22916</td>\n",
              "      <td>80022</td>\n",
              "      <td>CO</td>\n",
              "      <td>8180.0</td>\n",
              "      <td>0</td>\n",
              "      <td>1703</td>\n",
              "    </tr>\n",
              "    <tr>\n",
              "      <th>4</th>\n",
              "      <td>32409</td>\n",
              "      <td>0</td>\n",
              "      <td>2009-01-05</td>\n",
              "      <td>MANHEIM</td>\n",
              "      <td>2004</td>\n",
              "      <td>5</td>\n",
              "      <td>FORD</td>\n",
              "      <td>TAURUS 3.0L V6 EFI</td>\n",
              "      <td>SES</td>\n",
              "      <td>4D SEDAN SES DURATEC</td>\n",
              "      <td>...</td>\n",
              "      <td>4139.0</td>\n",
              "      <td>5351.0</td>\n",
              "      <td>NaN</td>\n",
              "      <td>NaN</td>\n",
              "      <td>22916</td>\n",
              "      <td>80022</td>\n",
              "      <td>CO</td>\n",
              "      <td>4900.0</td>\n",
              "      <td>0</td>\n",
              "      <td>825</td>\n",
              "    </tr>\n",
              "    <tr>\n",
              "      <th>...</th>\n",
              "      <td>...</td>\n",
              "      <td>...</td>\n",
              "      <td>...</td>\n",
              "      <td>...</td>\n",
              "      <td>...</td>\n",
              "      <td>...</td>\n",
              "      <td>...</td>\n",
              "      <td>...</td>\n",
              "      <td>...</td>\n",
              "      <td>...</td>\n",
              "      <td>...</td>\n",
              "      <td>...</td>\n",
              "      <td>...</td>\n",
              "      <td>...</td>\n",
              "      <td>...</td>\n",
              "      <td>...</td>\n",
              "      <td>...</td>\n",
              "      <td>...</td>\n",
              "      <td>...</td>\n",
              "      <td>...</td>\n",
              "      <td>...</td>\n",
              "    </tr>\n",
              "    <tr>\n",
              "      <th>72978</th>\n",
              "      <td>68095</td>\n",
              "      <td>0</td>\n",
              "      <td>2010-12-30</td>\n",
              "      <td>ADESA</td>\n",
              "      <td>2006</td>\n",
              "      <td>4</td>\n",
              "      <td>SUZUKI</td>\n",
              "      <td>AERIO</td>\n",
              "      <td>SX</td>\n",
              "      <td>4D WAGON SX</td>\n",
              "      <td>...</td>\n",
              "      <td>7601.0</td>\n",
              "      <td>8041.0</td>\n",
              "      <td>NaN</td>\n",
              "      <td>NaN</td>\n",
              "      <td>52598</td>\n",
              "      <td>28273</td>\n",
              "      <td>NC</td>\n",
              "      <td>4500.0</td>\n",
              "      <td>0</td>\n",
              "      <td>983</td>\n",
              "    </tr>\n",
              "    <tr>\n",
              "      <th>72979</th>\n",
              "      <td>68096</td>\n",
              "      <td>1</td>\n",
              "      <td>2010-12-30</td>\n",
              "      <td>ADESA</td>\n",
              "      <td>2006</td>\n",
              "      <td>4</td>\n",
              "      <td>SUZUKI</td>\n",
              "      <td>GRAND VITARA 2WD</td>\n",
              "      <td>NaN</td>\n",
              "      <td>4D SPORT UTILITY</td>\n",
              "      <td>...</td>\n",
              "      <td>11114.0</td>\n",
              "      <td>11830.0</td>\n",
              "      <td>NaN</td>\n",
              "      <td>NaN</td>\n",
              "      <td>52598</td>\n",
              "      <td>28273</td>\n",
              "      <td>NC</td>\n",
              "      <td>7470.0</td>\n",
              "      <td>0</td>\n",
              "      <td>920</td>\n",
              "    </tr>\n",
              "    <tr>\n",
              "      <th>72980</th>\n",
              "      <td>68097</td>\n",
              "      <td>1</td>\n",
              "      <td>2010-12-30</td>\n",
              "      <td>ADESA</td>\n",
              "      <td>2005</td>\n",
              "      <td>5</td>\n",
              "      <td>FORD</td>\n",
              "      <td>TAURUS</td>\n",
              "      <td>SE</td>\n",
              "      <td>4D SEDAN SE</td>\n",
              "      <td>...</td>\n",
              "      <td>6476.0</td>\n",
              "      <td>9005.0</td>\n",
              "      <td>NO</td>\n",
              "      <td>GREEN</td>\n",
              "      <td>52598</td>\n",
              "      <td>28273</td>\n",
              "      <td>NC</td>\n",
              "      <td>4130.0</td>\n",
              "      <td>0</td>\n",
              "      <td>1053</td>\n",
              "    </tr>\n",
              "    <tr>\n",
              "      <th>72981</th>\n",
              "      <td>60722</td>\n",
              "      <td>1</td>\n",
              "      <td>2010-12-30</td>\n",
              "      <td>MANHEIM</td>\n",
              "      <td>2005</td>\n",
              "      <td>5</td>\n",
              "      <td>CHEVROLET</td>\n",
              "      <td>MALIBU 4C</td>\n",
              "      <td>Cla</td>\n",
              "      <td>4D SEDAN CLASSIC</td>\n",
              "      <td>...</td>\n",
              "      <td>6908.0</td>\n",
              "      <td>8446.0</td>\n",
              "      <td>NaN</td>\n",
              "      <td>NaN</td>\n",
              "      <td>21047</td>\n",
              "      <td>92337</td>\n",
              "      <td>CA</td>\n",
              "      <td>4395.0</td>\n",
              "      <td>0</td>\n",
              "      <td>1243</td>\n",
              "    </tr>\n",
              "    <tr>\n",
              "      <th>72982</th>\n",
              "      <td>70453</td>\n",
              "      <td>0</td>\n",
              "      <td>2010-12-30</td>\n",
              "      <td>ADESA</td>\n",
              "      <td>2003</td>\n",
              "      <td>7</td>\n",
              "      <td>CADILLAC</td>\n",
              "      <td>CTS</td>\n",
              "      <td>NaN</td>\n",
              "      <td>4D SEDAN</td>\n",
              "      <td>...</td>\n",
              "      <td>9699.0</td>\n",
              "      <td>11190.0</td>\n",
              "      <td>NaN</td>\n",
              "      <td>NaN</td>\n",
              "      <td>20740</td>\n",
              "      <td>32219</td>\n",
              "      <td>FL</td>\n",
              "      <td>9600.0</td>\n",
              "      <td>0</td>\n",
              "      <td>2063</td>\n",
              "    </tr>\n",
              "  </tbody>\n",
              "</table>\n",
              "<p>72983 rows × 34 columns</p>\n",
              "</div>\n",
              "    <div class=\"colab-df-buttons\">\n",
              "\n",
              "  <div class=\"colab-df-container\">\n",
              "    <button class=\"colab-df-convert\" onclick=\"convertToInteractive('df-8ced6db9-725f-4064-b2e8-a0b8035879e2')\"\n",
              "            title=\"Convert this dataframe to an interactive table.\"\n",
              "            style=\"display:none;\">\n",
              "\n",
              "  <svg xmlns=\"http://www.w3.org/2000/svg\" height=\"24px\" viewBox=\"0 -960 960 960\">\n",
              "    <path d=\"M120-120v-720h720v720H120Zm60-500h600v-160H180v160Zm220 220h160v-160H400v160Zm0 220h160v-160H400v160ZM180-400h160v-160H180v160Zm440 0h160v-160H620v160ZM180-180h160v-160H180v160Zm440 0h160v-160H620v160Z\"/>\n",
              "  </svg>\n",
              "    </button>\n",
              "\n",
              "  <style>\n",
              "    .colab-df-container {\n",
              "      display:flex;\n",
              "      gap: 12px;\n",
              "    }\n",
              "\n",
              "    .colab-df-convert {\n",
              "      background-color: #E8F0FE;\n",
              "      border: none;\n",
              "      border-radius: 50%;\n",
              "      cursor: pointer;\n",
              "      display: none;\n",
              "      fill: #1967D2;\n",
              "      height: 32px;\n",
              "      padding: 0 0 0 0;\n",
              "      width: 32px;\n",
              "    }\n",
              "\n",
              "    .colab-df-convert:hover {\n",
              "      background-color: #E2EBFA;\n",
              "      box-shadow: 0px 1px 2px rgba(60, 64, 67, 0.3), 0px 1px 3px 1px rgba(60, 64, 67, 0.15);\n",
              "      fill: #174EA6;\n",
              "    }\n",
              "\n",
              "    .colab-df-buttons div {\n",
              "      margin-bottom: 4px;\n",
              "    }\n",
              "\n",
              "    [theme=dark] .colab-df-convert {\n",
              "      background-color: #3B4455;\n",
              "      fill: #D2E3FC;\n",
              "    }\n",
              "\n",
              "    [theme=dark] .colab-df-convert:hover {\n",
              "      background-color: #434B5C;\n",
              "      box-shadow: 0px 1px 3px 1px rgba(0, 0, 0, 0.15);\n",
              "      filter: drop-shadow(0px 1px 2px rgba(0, 0, 0, 0.3));\n",
              "      fill: #FFFFFF;\n",
              "    }\n",
              "  </style>\n",
              "\n",
              "    <script>\n",
              "      const buttonEl =\n",
              "        document.querySelector('#df-8ced6db9-725f-4064-b2e8-a0b8035879e2 button.colab-df-convert');\n",
              "      buttonEl.style.display =\n",
              "        google.colab.kernel.accessAllowed ? 'block' : 'none';\n",
              "\n",
              "      async function convertToInteractive(key) {\n",
              "        const element = document.querySelector('#df-8ced6db9-725f-4064-b2e8-a0b8035879e2');\n",
              "        const dataTable =\n",
              "          await google.colab.kernel.invokeFunction('convertToInteractive',\n",
              "                                                    [key], {});\n",
              "        if (!dataTable) return;\n",
              "\n",
              "        const docLinkHtml = 'Like what you see? Visit the ' +\n",
              "          '<a target=\"_blank\" href=https://colab.research.google.com/notebooks/data_table.ipynb>data table notebook</a>'\n",
              "          + ' to learn more about interactive tables.';\n",
              "        element.innerHTML = '';\n",
              "        dataTable['output_type'] = 'display_data';\n",
              "        await google.colab.output.renderOutput(dataTable, element);\n",
              "        const docLink = document.createElement('div');\n",
              "        docLink.innerHTML = docLinkHtml;\n",
              "        element.appendChild(docLink);\n",
              "      }\n",
              "    </script>\n",
              "  </div>\n",
              "\n",
              "\n",
              "    <div id=\"df-9a1f7921-8b45-4f52-aeac-a9e6febdb473\">\n",
              "      <button class=\"colab-df-quickchart\" onclick=\"quickchart('df-9a1f7921-8b45-4f52-aeac-a9e6febdb473')\"\n",
              "                title=\"Suggest charts\"\n",
              "                style=\"display:none;\">\n",
              "\n",
              "<svg xmlns=\"http://www.w3.org/2000/svg\" height=\"24px\"viewBox=\"0 0 24 24\"\n",
              "     width=\"24px\">\n",
              "    <g>\n",
              "        <path d=\"M19 3H5c-1.1 0-2 .9-2 2v14c0 1.1.9 2 2 2h14c1.1 0 2-.9 2-2V5c0-1.1-.9-2-2-2zM9 17H7v-7h2v7zm4 0h-2V7h2v10zm4 0h-2v-4h2v4z\"/>\n",
              "    </g>\n",
              "</svg>\n",
              "      </button>\n",
              "\n",
              "<style>\n",
              "  .colab-df-quickchart {\n",
              "      --bg-color: #E8F0FE;\n",
              "      --fill-color: #1967D2;\n",
              "      --hover-bg-color: #E2EBFA;\n",
              "      --hover-fill-color: #174EA6;\n",
              "      --disabled-fill-color: #AAA;\n",
              "      --disabled-bg-color: #DDD;\n",
              "  }\n",
              "\n",
              "  [theme=dark] .colab-df-quickchart {\n",
              "      --bg-color: #3B4455;\n",
              "      --fill-color: #D2E3FC;\n",
              "      --hover-bg-color: #434B5C;\n",
              "      --hover-fill-color: #FFFFFF;\n",
              "      --disabled-bg-color: #3B4455;\n",
              "      --disabled-fill-color: #666;\n",
              "  }\n",
              "\n",
              "  .colab-df-quickchart {\n",
              "    background-color: var(--bg-color);\n",
              "    border: none;\n",
              "    border-radius: 50%;\n",
              "    cursor: pointer;\n",
              "    display: none;\n",
              "    fill: var(--fill-color);\n",
              "    height: 32px;\n",
              "    padding: 0;\n",
              "    width: 32px;\n",
              "  }\n",
              "\n",
              "  .colab-df-quickchart:hover {\n",
              "    background-color: var(--hover-bg-color);\n",
              "    box-shadow: 0 1px 2px rgba(60, 64, 67, 0.3), 0 1px 3px 1px rgba(60, 64, 67, 0.15);\n",
              "    fill: var(--button-hover-fill-color);\n",
              "  }\n",
              "\n",
              "  .colab-df-quickchart-complete:disabled,\n",
              "  .colab-df-quickchart-complete:disabled:hover {\n",
              "    background-color: var(--disabled-bg-color);\n",
              "    fill: var(--disabled-fill-color);\n",
              "    box-shadow: none;\n",
              "  }\n",
              "\n",
              "  .colab-df-spinner {\n",
              "    border: 2px solid var(--fill-color);\n",
              "    border-color: transparent;\n",
              "    border-bottom-color: var(--fill-color);\n",
              "    animation:\n",
              "      spin 1s steps(1) infinite;\n",
              "  }\n",
              "\n",
              "  @keyframes spin {\n",
              "    0% {\n",
              "      border-color: transparent;\n",
              "      border-bottom-color: var(--fill-color);\n",
              "      border-left-color: var(--fill-color);\n",
              "    }\n",
              "    20% {\n",
              "      border-color: transparent;\n",
              "      border-left-color: var(--fill-color);\n",
              "      border-top-color: var(--fill-color);\n",
              "    }\n",
              "    30% {\n",
              "      border-color: transparent;\n",
              "      border-left-color: var(--fill-color);\n",
              "      border-top-color: var(--fill-color);\n",
              "      border-right-color: var(--fill-color);\n",
              "    }\n",
              "    40% {\n",
              "      border-color: transparent;\n",
              "      border-right-color: var(--fill-color);\n",
              "      border-top-color: var(--fill-color);\n",
              "    }\n",
              "    60% {\n",
              "      border-color: transparent;\n",
              "      border-right-color: var(--fill-color);\n",
              "    }\n",
              "    80% {\n",
              "      border-color: transparent;\n",
              "      border-right-color: var(--fill-color);\n",
              "      border-bottom-color: var(--fill-color);\n",
              "    }\n",
              "    90% {\n",
              "      border-color: transparent;\n",
              "      border-bottom-color: var(--fill-color);\n",
              "    }\n",
              "  }\n",
              "</style>\n",
              "\n",
              "      <script>\n",
              "        async function quickchart(key) {\n",
              "          const quickchartButtonEl =\n",
              "            document.querySelector('#' + key + ' button');\n",
              "          quickchartButtonEl.disabled = true;  // To prevent multiple clicks.\n",
              "          quickchartButtonEl.classList.add('colab-df-spinner');\n",
              "          try {\n",
              "            const charts = await google.colab.kernel.invokeFunction(\n",
              "                'suggestCharts', [key], {});\n",
              "          } catch (error) {\n",
              "            console.error('Error during call to suggestCharts:', error);\n",
              "          }\n",
              "          quickchartButtonEl.classList.remove('colab-df-spinner');\n",
              "          quickchartButtonEl.classList.add('colab-df-quickchart-complete');\n",
              "        }\n",
              "        (() => {\n",
              "          let quickchartButtonEl =\n",
              "            document.querySelector('#df-9a1f7921-8b45-4f52-aeac-a9e6febdb473 button');\n",
              "          quickchartButtonEl.style.display =\n",
              "            google.colab.kernel.accessAllowed ? 'block' : 'none';\n",
              "        })();\n",
              "      </script>\n",
              "    </div>\n",
              "    </div>\n",
              "  </div>\n"
            ],
            "application/vnd.google.colaboratory.intrinsic+json": {
              "type": "dataframe",
              "variable_name": "df"
            }
          },
          "metadata": {},
          "execution_count": 13
        }
      ]
    },
    {
      "cell_type": "markdown",
      "source": [
        "Разделяем данные"
      ],
      "metadata": {
        "id": "bZ5WdoddVC7R"
      },
      "id": "bZ5WdoddVC7R"
    },
    {
      "cell_type": "code",
      "source": [
        "n = len(df)\n",
        "train_end = int(n * 0.33)\n",
        "valid_end = int(n * 0.66)\n",
        "\n",
        "train_data = df.iloc[:train_end]\n",
        "valid_data = df.iloc[:valid_end]\n",
        "test_data = df.iloc[valid_end:]"
      ],
      "metadata": {
        "id": "jmfHHQXiVG6K"
      },
      "id": "jmfHHQXiVG6K",
      "execution_count": 14,
      "outputs": []
    },
    {
      "cell_type": "markdown",
      "source": [
        "### 3. Предварительная обработка данных"
      ],
      "metadata": {
        "id": "HURMDe-QVmYW"
      },
      "id": "HURMDe-QVmYW"
    },
    {
      "cell_type": "markdown",
      "source": [
        "Выделяем категориальные и числовые колонки"
      ],
      "metadata": {
        "id": "x88uAGKsSKDS"
      },
      "id": "x88uAGKsSKDS"
    },
    {
      "cell_type": "code",
      "source": [
        "cat_cols = df.select_dtypes(include=['object']).columns.tolist()\n",
        "cat_cols = [c for c in cat_cols if c not in ['RefId', 'IsBadBuy', 'PurchDate']]  # исключаем ID, целевую и дату\n",
        "num_cols = df.select_dtypes(include=[np.number]).columns.tolist()\n",
        "num_cols = [c for c in num_cols if c != 'IsBadBuy']"
      ],
      "metadata": {
        "id": "IGgJNoprSMYn"
      },
      "id": "IGgJNoprSMYn",
      "execution_count": 15,
      "outputs": []
    },
    {
      "cell_type": "markdown",
      "source": [
        "Разделение данных"
      ],
      "metadata": {
        "id": "QhQtvSxZS1-4"
      },
      "id": "QhQtvSxZS1-4"
    },
    {
      "cell_type": "code",
      "source": [
        "X_train = train_data.drop(columns=['IsBadBuy'])\n",
        "y_train = train_data['IsBadBuy']\n",
        "X_valid = valid_data.drop(columns=['IsBadBuy'])\n",
        "y_valid = valid_data['IsBadBuy']\n",
        "X_test = test_data.drop(columns=['IsBadBuy'])\n",
        "y_test = test_data['IsBadBuy']"
      ],
      "metadata": {
        "id": "FkLgRX55S4E3"
      },
      "id": "FkLgRX55S4E3",
      "execution_count": 16,
      "outputs": []
    },
    {
      "cell_type": "markdown",
      "source": [
        "Кодирование категориальных признаков"
      ],
      "metadata": {
        "id": "k3rW62oAS-0J"
      },
      "id": "k3rW62oAS-0J"
    },
    {
      "cell_type": "code",
      "source": [
        "encoder = ce.CountEncoder(cols=cat_cols, handle_unknown='value', handle_missing='value')\n",
        "X_train_cat = encoder.fit_transform(X_train[cat_cols])\n",
        "X_valid_cat = encoder.transform(X_valid[cat_cols])\n",
        "X_test_cat = encoder.transform(X_test[cat_cols])"
      ],
      "metadata": {
        "id": "_GuZhYZ1TAMm"
      },
      "id": "_GuZhYZ1TAMm",
      "execution_count": 17,
      "outputs": []
    },
    {
      "cell_type": "markdown",
      "source": [
        "Импутация и нормализация числовых признаков"
      ],
      "metadata": {
        "id": "2LNrW5zkTCGn"
      },
      "id": "2LNrW5zkTCGn"
    },
    {
      "cell_type": "code",
      "source": [
        "imputer = SimpleImputer(strategy='median')\n",
        "scaler = StandardScaler()"
      ],
      "metadata": {
        "id": "eZWhVEQaTDm2"
      },
      "id": "eZWhVEQaTDm2",
      "execution_count": 18,
      "outputs": []
    },
    {
      "cell_type": "markdown",
      "source": [
        "Применяем к числовым признакам"
      ],
      "metadata": {
        "id": "jC8nYQ2TTG2T"
      },
      "id": "jC8nYQ2TTG2T"
    },
    {
      "cell_type": "code",
      "source": [
        "X_train_num = imputer.fit_transform(X_train[num_cols])\n",
        "X_valid_num = imputer.transform(X_valid[num_cols])\n",
        "X_test_num = imputer.transform(X_test[num_cols])\n",
        "\n",
        "X_train_num_scaled = scaler.fit_transform(X_train_num)\n",
        "X_valid_num_scaled = scaler.transform(X_valid_num)\n",
        "X_test_num_scaled = scaler.transform(X_test_num)"
      ],
      "metadata": {
        "id": "ko9WEo9nTJv9"
      },
      "id": "ko9WEo9nTJv9",
      "execution_count": 19,
      "outputs": []
    },
    {
      "cell_type": "markdown",
      "source": [
        "Объединение признаков"
      ],
      "metadata": {
        "id": "0YXzDM7nTLtA"
      },
      "id": "0YXzDM7nTLtA"
    },
    {
      "cell_type": "code",
      "source": [
        "X_train_final = np.hstack([X_train_num_scaled, X_train_cat.values])\n",
        "X_valid_final = np.hstack([X_valid_num_scaled, X_valid_cat.values])\n",
        "X_test_final = np.hstack([X_test_num_scaled, X_test_cat.values])"
      ],
      "metadata": {
        "id": "pVzOoHhmTNVc"
      },
      "id": "pVzOoHhmTNVc",
      "execution_count": 20,
      "outputs": []
    },
    {
      "cell_type": "markdown",
      "source": [
        "Проверка на NaN"
      ],
      "metadata": {
        "id": "QV_Le-n0TPkp"
      },
      "id": "QV_Le-n0TPkp"
    },
    {
      "cell_type": "code",
      "source": [
        "assert not np.isnan(X_train_final).any(), \"Есть NaN в X_train_final!\"\n",
        "assert not np.isnan(X_valid_final).any(), \"Есть NaN в X_valid_final!\"\n",
        "assert not np.isnan(X_test_final).any(), \"Есть NaN в X_test_final!\"\n",
        "\n",
        "print(\"Форма X_train_final:\", X_train_final.shape)\n",
        "print(\"Пропусков нет — можно обучать модель!\")"
      ],
      "metadata": {
        "colab": {
          "base_uri": "https://localhost:8080/"
        },
        "id": "95zBpLXPTRew",
        "outputId": "15a46f6e-d537-46d4-ab18-5776cb5474dd"
      },
      "id": "95zBpLXPTRew",
      "execution_count": 21,
      "outputs": [
        {
          "output_type": "stream",
          "name": "stdout",
          "text": [
            "Форма X_train_final: (24084, 32)\n",
            "Пропусков нет — можно обучать модель!\n"
          ]
        }
      ]
    },
    {
      "cell_type": "markdown",
      "source": [
        "### 4. Обучение LogisticRegression, GaussianNB, KNN из sklearn"
      ],
      "metadata": {
        "id": "9MbVM3rBOEv2"
      },
      "id": "9MbVM3rBOEv2"
    },
    {
      "cell_type": "code",
      "source": [
        "models = {\n",
        "    'LogisticRegression': LogisticRegression(max_iter = 1000),\n",
        "    'GaussianNB': GaussianNB(),\n",
        "    'KNN': KNeighborsClassifier(n_neighbors = 5)\n",
        "}\n",
        "\n",
        "results = {}\n",
        "for name, model in models.items():\n",
        "  model.fit(X_train_final, y_train)\n",
        "  y_pred_proba = model.predict_proba(X_valid_final)[:, 1]\n",
        "  auc = roc_auc_score(y_valid, y_pred_proba)\n",
        "  gini = 2 * auc - 1\n",
        "  results[name] = gini\n",
        "  print(f\"{name} - AUC: {auc:.4f}, Gini: {gini:.4f}\")"
      ],
      "metadata": {
        "colab": {
          "base_uri": "https://localhost:8080/"
        },
        "id": "re0Av3Q9Oluy",
        "outputId": "2cf9181a-bdf7-48dd-8fb2-4375e4c42630"
      },
      "id": "re0Av3Q9Oluy",
      "execution_count": 23,
      "outputs": [
        {
          "output_type": "stream",
          "name": "stdout",
          "text": [
            "LogisticRegression - AUC: 0.7374, Gini: 0.4749\n",
            "GaussianNB - AUC: 0.7263, Gini: 0.4526\n",
            "KNN - AUC: 0.7649, Gini: 0.5299\n"
          ]
        }
      ]
    },
    {
      "cell_type": "markdown",
      "source": [
        "### 5. Реализация AUC ROC и Gini вручную"
      ],
      "metadata": {
        "id": "D5tXlzSdMS4O"
      },
      "id": "D5tXlzSdMS4O"
    },
    {
      "cell_type": "code",
      "source": [
        "def compute_auc(y_true, y_score):\n",
        "    # Сортируем по убыванию скоров\n",
        "    indices = np.argsort(y_score)[::-1]\n",
        "    y_true_sorted = y_true.iloc[indices] if hasattr(y_true, 'iloc') else y_true[indices]\n",
        "\n",
        "    # Кумулятивные суммы\n",
        "    pos = np.cumsum(y_true_sorted)\n",
        "    total_pos = np.sum(y_true_sorted)\n",
        "    neg = np.arange(len(y_true_sorted)) + 1 - pos\n",
        "    total_neg = len(y_true_sorted) - total_pos\n",
        "\n",
        "    # TPR и FPR\n",
        "    tpr = np.concatenate([[0], pos / total_pos, [1]])\n",
        "    fpr = np.concatenate([[0], neg / total_neg, [1]])\n",
        "\n",
        "    # Площадь под кривой (трапеции)\n",
        "    auc = 0\n",
        "    for i in range(1, len(tpr)):\n",
        "        auc += (fpr[i] - fpr[i-1]) * (tpr[i] + tpr[i-1]) / 2\n",
        "    return auc\n",
        "\n",
        "def gini_score(y_true, y_score):\n",
        "    auc = compute_auc(y_true, y_score)\n",
        "    return 2 * auc - 1\n",
        "\n",
        "# Проверка\n",
        "y_pred_lr = models['LogisticRegression'].predict_proba(X_valid_final)[:, 1]\n",
        "our_gini = gini_score(y_valid, y_pred_lr)\n",
        "sklearn_gini = 2 * roc_auc_score(y_valid, y_pred_lr) - 1\n",
        "\n",
        "print(f\"Наш Gini: {our_gini:.6f}\")\n",
        "print(f\"sklearn Gini: {sklearn_gini:.6f}\")\n",
        "print(f\"Разница: {abs(our_gini - sklearn_gini):.8f}\")"
      ],
      "metadata": {
        "colab": {
          "base_uri": "https://localhost:8080/"
        },
        "id": "s__QOWBlMQmJ",
        "outputId": "154aa86b-f118-4022-aa11-8bea547e0fc2"
      },
      "id": "s__QOWBlMQmJ",
      "execution_count": 24,
      "outputs": [
        {
          "output_type": "stream",
          "name": "stdout",
          "text": [
            "Наш Gini: 0.474857\n",
            "sklearn Gini: 0.474857\n",
            "Разница: 0.00000000\n"
          ]
        }
      ]
    },
    {
      "cell_type": "markdown",
      "source": [
        "### 6. Собственные версии классификаторов LogisticRegression, KNN и NaiveBayes"
      ],
      "metadata": {
        "id": "mYUQ-Yq5kvdN"
      },
      "id": "mYUQ-Yq5kvdN"
    },
    {
      "cell_type": "markdown",
      "source": [
        "**Собственная Logistic Regression с SGD**"
      ],
      "metadata": {
        "id": "HQt5QdyUlJh7"
      },
      "id": "HQt5QdyUlJh7"
    },
    {
      "cell_type": "markdown",
      "source": [
        "Линейная модель:\n",
        "\n",
        "$$\n",
        "z = \\mathbf{w}^T \\mathbf{x} + b = w_1 x_1 + w_2 x_2 + \\dots + w_n x_n + b\n",
        "$$"
      ],
      "metadata": {
        "id": "gCoU72vUpTKP"
      },
      "id": "gCoU72vUpTKP"
    },
    {
      "cell_type": "markdown",
      "source": [
        "Функция, преобразующая линейную комбинацию в вероятность:\n",
        "\n",
        "$$\n",
        "\\sigma(z) = \\frac{1}{1 + e^{-z}}\n",
        "$$"
      ],
      "metadata": {
        "id": "_cE30JY_puBr"
      },
      "id": "_cE30JY_puBr"
    },
    {
      "cell_type": "markdown",
      "source": [
        "Логистическая регрессия:\n",
        "\n",
        "$$\n",
        "P(y=1 \\mid \\mathbf{x}) = \\sigma(\\mathbf{w}^T \\mathbf{x} + b)\n",
        "$$"
      ],
      "metadata": {
        "id": "e6xiPInsp78w"
      },
      "id": "e6xiPInsp78w"
    },
    {
      "cell_type": "code",
      "source": [
        "class MyLogisticRegression:\n",
        "    def __init__(self, learning_rate=0.001, epochs=1000, batch_size=64, tol=1e-4):\n",
        "        self.learning_rate = learning_rate\n",
        "        self.epochs = epochs\n",
        "        self.batch_size = batch_size\n",
        "        self.tol = tol  # для ранней остановки\n",
        "        self.w = None\n",
        "        self.b = None\n",
        "        self.losses_ = []  # можно отслеживать\n",
        "\n",
        "    def _sigmoid(self, z):\n",
        "        # Устойчивый sigmoid\n",
        "        z = np.clip(z, -500, 500)\n",
        "        return np.where(z >= 0,\n",
        "                        1 / (1 + np.exp(-z)),\n",
        "                        np.exp(z) / (1 + np.exp(z)))\n",
        "\n",
        "    def _compute_loss(self, y_true, y_prob):\n",
        "        # Лог-потеря с защитой от log(0)\n",
        "        y_prob = np.clip(y_prob, 1e-15, 1 - 1e-15)\n",
        "        return -np.mean(y_true * np.log(y_prob) + (1 - y_true) * np.log(1 - y_prob))\n",
        "\n",
        "    def fit(self, X, y):\n",
        "        n_samples, n_features = X.shape\n",
        "        # Инициализация весов (малые случайные значения)\n",
        "        self.w = np.random.normal(0, 0.01, n_features)\n",
        "        self.b = 0.0\n",
        "\n",
        "        # Для отслеживания сходимости\n",
        "        prev_loss = float('inf')\n",
        "\n",
        "        for epoch in range(self.epochs):\n",
        "            # Перемешиваем данные\n",
        "            indices = np.random.permutation(n_samples)\n",
        "            X_shuffled = X[indices]\n",
        "            y_shuffled = y[indices]\n",
        "\n",
        "            epoch_loss = 0.0\n",
        "            num_batches = 0\n",
        "\n",
        "            for i in range(0, n_samples, self.batch_size):\n",
        "                X_batch = X_shuffled[i:i + self.batch_size]\n",
        "                y_batch = y_shuffled[i:i + self.batch_size]\n",
        "\n",
        "                # Прямое распространение\n",
        "                z = X_batch.dot(self.w) + self.b\n",
        "                y_pred = self._sigmoid(z)\n",
        "\n",
        "                # Вычисление градиентов\n",
        "                m = len(y_batch)\n",
        "                dw = (1 / m) * X_batch.T.dot(y_pred - y_batch)\n",
        "                db = (1 / m) * np.sum(y_pred - y_batch)\n",
        "\n",
        "                # Обрезаем градиенты (градиентный взрыв)\n",
        "                dw = np.clip(dw, -1.0, 1.0)\n",
        "\n",
        "                # Обновляем параметры\n",
        "                self.w -= self.learning_rate * dw\n",
        "                self.b -= self.learning_rate * db\n",
        "\n",
        "                # Считаем лосс для отслеживания\n",
        "                batch_loss = self._compute_loss(y_batch, y_pred)\n",
        "                epoch_loss += batch_loss\n",
        "                num_batches += 1\n",
        "\n",
        "            epoch_loss /= num_batches\n",
        "            self.losses_.append(epoch_loss)\n",
        "\n",
        "            # Ранняя остановка\n",
        "            if abs(prev_loss - epoch_loss) < self.tol:\n",
        "                print(f\"Converged at epoch {epoch}\")\n",
        "                break\n",
        "            prev_loss = epoch_loss\n",
        "\n",
        "            # Лог каждые 200 эпох\n",
        "            # if epoch % 200 == 0:\n",
        "            #     print(f\"Epoch {epoch}, Loss: {epoch_loss:.4f}\")\n",
        "\n",
        "    def predict_proba(self, X):\n",
        "        z = X.dot(self.w) + self.b\n",
        "        prob_positive = self._sigmoid(z)\n",
        "        prob_positive = np.clip(prob_positive, 1e-15, 1 - 1e-15)\n",
        "        prob_negative = 1 - prob_positive\n",
        "        # Возвращаем 2D массив: [P(0), P(1)]\n",
        "        return np.column_stack([prob_negative, prob_positive])\n",
        "\n",
        "    def predict(self, X):\n",
        "        return (self.predict_proba(X)[:, 1] >= 0.5).astype(int)"
      ],
      "metadata": {
        "id": "zKKmAiS1lMCl"
      },
      "id": "zKKmAiS1lMCl",
      "execution_count": 25,
      "outputs": []
    },
    {
      "cell_type": "markdown",
      "source": [
        "**Собственный KNN**"
      ],
      "metadata": {
        "id": "Mb0EzF27O4lA"
      },
      "id": "Mb0EzF27O4lA"
    },
    {
      "cell_type": "markdown",
      "source": [
        "KNN — это непараметрический алгоритм, который классифицирует объект на основе схожести с другими объектами в обучающей выборке.\n",
        "\n",
        "Основная идея:\n",
        "Найти k ближайших к новому объекту x точек из обучающей выборки и присвоить ему класс, который чаще всего встречается среди них."
      ],
      "metadata": {
        "id": "4Hbr38k1UBtS"
      },
      "id": "4Hbr38k1UBtS"
    },
    {
      "cell_type": "markdown",
      "source": [
        "Расстояние между объектами (Евклидово):\n",
        "\n",
        "$$\n",
        "d(\\mathbf{x}_i, \\mathbf{x}_j) = \\sqrt{\\sum_{f=1}^{n} (x_{i,f} - x_{j,f})^2}\n",
        "$$"
      ],
      "metadata": {
        "id": "JedxlfGSUHAv"
      },
      "id": "JedxlfGSUHAv"
    },
    {
      "cell_type": "markdown",
      "source": [
        "Предсказание класса (голосование):\n",
        "\n",
        "$$\n",
        "\\hat{y} = \\text{mode}\\left( \\{ y_j \\mid j \\in \\text{NN}_k(\\mathbf{x}) \\} \\right)\n",
        "$$"
      ],
      "metadata": {
        "id": "Xt0SpytSUNBm"
      },
      "id": "Xt0SpytSUNBm"
    },
    {
      "cell_type": "markdown",
      "source": [
        "Взвешенное голосование (по расстоянию):\n",
        "\n",
        "$$\n",
        "P(y=c \\mid \\mathbf{x}) = \\frac{\\sum_{j \\in \\text{NN}_k(\\mathbf{x})} w_j \\cdot \\mathbb{I}(y_j = c)}{\\sum_{j \\in \\text{NN}_k(\\mathbf{x})} w_j}\n",
        "\\quad \\text{где} \\quad\n",
        "w_j = \\frac{1}{d(\\mathbf{x}, \\mathbf{x}_j)}\n",
        "$$"
      ],
      "metadata": {
        "id": "4VRelBuiUWkx"
      },
      "id": "4VRelBuiUWkx"
    },
    {
      "cell_type": "code",
      "source": [
        "class MyKNN:\n",
        "    def __init__(self, k=5):\n",
        "        if k <= 0:\n",
        "            raise ValueError(\"k must be positive.\")\n",
        "        self.k = k\n",
        "        self.X_train = None\n",
        "        self.y_train = None\n",
        "        self.fitted_ = False\n",
        "\n",
        "    def fit(self, X, y):\n",
        "        # Преобразуем в numpy\n",
        "        X = np.array(X)\n",
        "        y = np.array(y).ravel()  # гарантируем 1D\n",
        "\n",
        "        if X.shape[0] == 0:\n",
        "            raise ValueError(\"Training set is empty.\")\n",
        "        if X.shape[0] != y.shape[0]:\n",
        "            raise ValueError(\"X and y must have the same number of samples.\")\n",
        "\n",
        "        self.X_train = X\n",
        "        self.y_train = y\n",
        "        self.fitted_ = True\n",
        "        return self  # для Pipeline\n",
        "\n",
        "    def predict_proba(self, X):\n",
        "        prob1 = []  # P(y=1)\n",
        "        for x in X:\n",
        "            dists = np.linalg.norm(self.X_train - x, axis=1)\n",
        "            k_indices = np.argsort(dists)[:self.k]\n",
        "            prob1.append(np.mean(self.y_train[k_indices]))\n",
        "        prob1 = np.array(prob1)\n",
        "        prob0 = 1 - prob1\n",
        "        return np.column_stack([prob0, prob1])  # форма: (n_samples, 2)\n",
        "\n",
        "        return probs\n",
        "\n",
        "    def predict(self, X):\n",
        "        probas = self.predict_proba(X)\n",
        "        return (probas >= 0.5).astype(int)"
      ],
      "metadata": {
        "id": "oAIijnMVO4Ql"
      },
      "id": "oAIijnMVO4Ql",
      "execution_count": 26,
      "outputs": []
    },
    {
      "cell_type": "markdown",
      "source": [
        "**Собственный Naive Bayes**"
      ],
      "metadata": {
        "id": "ZqM4w4OIQKK7"
      },
      "id": "ZqM4w4OIQKK7"
    },
    {
      "cell_type": "markdown",
      "source": [
        "Наивный Байес — это вероятностный классификатор, основанный на теореме Байеса с предположением о независимости признаков.\n",
        "\n",
        "Основная идея:\n",
        "Найти класс c , который максимизирует апостериорную вероятность:\n",
        "\n",
        "$$\n",
        "\\hat{y} = \\underset{c \\in C}{\\text{argmax}} \\; P(y = c \\mid \\mathbf{x})\n",
        "$$"
      ],
      "metadata": {
        "id": "175yudmbUiKz"
      },
      "id": "175yudmbUiKz"
    },
    {
      "cell_type": "markdown",
      "source": [
        " Теорема Байеса\n",
        "\n",
        " $$\n",
        "P(y = c \\mid \\mathbf{x}) = \\frac{P(\\mathbf{x} \\mid y = c) \\cdot P(y = c)}{P(\\mathbf{x})}\n",
        "$$"
      ],
      "metadata": {
        "id": "4IwQevpaUrxX"
      },
      "id": "4IwQevpaUrxX"
    },
    {
      "cell_type": "markdown",
      "source": [
        "Наивное предположение (независимость признаков)\n",
        "\n",
        "$$\n",
        "P(\\mathbf{x} \\mid y = c) = \\prod_{f=1}^{n} P(x_f \\mid y = c)\n",
        "$$"
      ],
      "metadata": {
        "id": "_YnTwS3zUvu0"
      },
      "id": "_YnTwS3zUvu0"
    },
    {
      "cell_type": "markdown",
      "source": [
        "Апостериорная вероятность (упрощённая)\n",
        "\n",
        "$$\n",
        "\\hat{y} = \\underset{c}{\\text{argmax}} \\; P(y = c) \\cdot \\prod_{f=1}^{n} P(x_f \\mid y = c)\n",
        "$$"
      ],
      "metadata": {
        "id": "5MOFHYDtUz0t"
      },
      "id": "5MOFHYDtUz0t"
    },
    {
      "cell_type": "markdown",
      "source": [
        "Для непрерывных признаков — Гауссов Наивный Байес\n",
        "\n",
        "$$\n",
        "P(x_f \\mid y = c) = \\frac{1}{\\sqrt{2\\pi\\sigma_c^2}} \\exp\\left(-\\frac{(x_f - \\mu_c)^2}{2\\sigma_c^2}\\right)\n",
        "$$"
      ],
      "metadata": {
        "id": "dDaaJD25U4Br"
      },
      "id": "dDaaJD25U4Br"
    },
    {
      "cell_type": "markdown",
      "source": [
        "Для категориальных признаков — Multinomial / Categorical NB\n",
        "\n",
        "$$\n",
        "P(x_f = v \\mid y = c) = \\frac{N_{c,v} + \\alpha}{N_c + \\alpha \\cdot V}\n",
        "$$"
      ],
      "metadata": {
        "id": "gh0NOwHuU7y3"
      },
      "id": "gh0NOwHuU7y3"
    },
    {
      "cell_type": "code",
      "source": [
        "class MyGaussianNB:\n",
        "    def __init__(self):\n",
        "        self.class_stats = {}\n",
        "        self.priors = {}\n",
        "        self.classes = None\n",
        "\n",
        "    def _gaussian_log_pdf(self, x, mean, var):\n",
        "        # Используем логарифм плотности — устойчивее\n",
        "        var = np.clip(var, 1e-9, None)  # Защита от слишком маленькой дисперсии\n",
        "        log_coeff = -0.5 * np.log(2 * np.pi * var)\n",
        "        log_exp = -0.5 * (x - mean)**2 / var\n",
        "        return log_coeff + log_exp  # log(P(x|class))\n",
        "\n",
        "    def fit(self, X, y):\n",
        "        self.classes = np.unique(y)\n",
        "        n_samples = X.shape[0]\n",
        "\n",
        "        for c in self.classes:\n",
        "            X_c = X[y == c]\n",
        "            self.priors[c] = X_c.shape[0] / n_samples\n",
        "            self.class_stats[c] = {\n",
        "                'mean': np.mean(X_c, axis=0),\n",
        "                'var': np.var(X_c, axis=0) + 1e-9  # Добавляем \"шум\"\n",
        "            }\n",
        "\n",
        "    def predict_proba(self, X):\n",
        "        log_probs = []\n",
        "        for c in self.classes:\n",
        "            mean = self.class_stats[c]['mean']\n",
        "            var = self.class_stats[c]['var']\n",
        "            log_likelihood = np.sum(self._gaussian_log_pdf(X, mean, var), axis=1)\n",
        "            log_prior = np.log(self.priors[c])\n",
        "            log_probs.append(log_likelihood + log_prior)\n",
        "\n",
        "        log_probs = np.stack(log_probs, axis=1)  # (n_samples, n_classes)\n",
        "        log_probs -= log_probs.max(axis=1, keepdims=True)\n",
        "        probs = np.exp(log_probs)\n",
        "        probs /= probs.sum(axis=1, keepdims=True)  # (n_samples, n_classes)\n",
        "\n",
        "        # Убедимся, что класс 1 — второй столбец\n",
        "        if self.classes[0] == 1:  # если порядок [1, 0]\n",
        "            probs = np.hstack([probs[:, 1:2], probs[:, 0:1]])  # меняем местами\n",
        "\n",
        "        return probs  # всегда (n_samples, 2)\n",
        "\n",
        "    def predict(self, X):\n",
        "        return (self.predict_proba(X)[:, 1] >= 0.5).astype(int)"
      ],
      "metadata": {
        "id": "8vPYtSifQOU4"
      },
      "id": "8vPYtSifQOU4",
      "execution_count": 27,
      "outputs": []
    },
    {
      "cell_type": "markdown",
      "source": [
        "Тестирование реализованных функций методов"
      ],
      "metadata": {
        "id": "JXdujPfPSfHj"
      },
      "id": "JXdujPfPSfHj"
    },
    {
      "cell_type": "code",
      "source": [
        "from sklearn.metrics import roc_auc_score\n",
        "\n",
        "models = {\n",
        "    'LogisticRegression': MyLogisticRegression(learning_rate=0.001, epochs=1000, batch_size=64),\n",
        "    'GaussianNB': MyGaussianNB(),\n",
        "    'KNN': MyKNN(k=5)\n",
        "}\n",
        "\n",
        "results = {}\n",
        "for name, model in models.items():\n",
        "    print(f\"Fitting {name}...\")\n",
        "    model.fit(X_train_final, y_train)\n",
        "\n",
        "    print(f\"Predicting {name}...\")\n",
        "    proba = model.predict_proba(X_valid_final)\n",
        "    print(f\"  predict_proba shape: {proba.shape}\")\n",
        "\n",
        "    if proba.ndim != 2 or proba.shape[1] != 2:\n",
        "        print(f\"{name}: Invalid shape {proba.shape}\")\n",
        "    else:\n",
        "        y_pred_proba = proba[:, 1]\n",
        "\n",
        "        if np.isnan(y_pred_proba).any():\n",
        "            print(f\"{name}: NaN values in predictions!\")\n",
        "        else:\n",
        "            auc = roc_auc_score(y_valid, y_pred_proba)\n",
        "            gini = gini_score(y_valid, y_pred_proba)\n",
        "            results[name] = gini\n",
        "            print(f\"{name} - AUC: {auc:.4f}, Gini: {gini:.4f}\")"
      ],
      "metadata": {
        "colab": {
          "base_uri": "https://localhost:8080/"
        },
        "id": "nBF89MVTeeYM",
        "outputId": "4d298041-5232-406a-80da-8f450ae13422"
      },
      "id": "nBF89MVTeeYM",
      "execution_count": 48,
      "outputs": [
        {
          "output_type": "stream",
          "name": "stdout",
          "text": [
            "Fitting LogisticRegression...\n",
            "Converged at epoch 514\n",
            "Predicting LogisticRegression...\n",
            "  predict_proba shape: (48168, 2)\n",
            "LogisticRegression - AUC: 0.5109, Gini: 0.0207\n",
            "Fitting GaussianNB...\n",
            "Predicting GaussianNB...\n",
            "  predict_proba shape: (48168, 2)\n",
            "GaussianNB - AUC: 0.7248, Gini: 0.4496\n",
            "Fitting KNN...\n",
            "Predicting KNN...\n",
            "  predict_proba shape: (48168, 2)\n",
            "KNN - AUC: 0.7649, Gini: 0.5535\n"
          ]
        }
      ]
    },
    {
      "cell_type": "markdown",
      "source": [
        "### 7. Feature engineering"
      ],
      "metadata": {
        "id": "Hz1t8grm2Aea"
      },
      "id": "Hz1t8grm2Aea"
    },
    {
      "cell_type": "markdown",
      "source": [
        "Создаём новые признаки"
      ],
      "metadata": {
        "id": "8FITU3C-24zC"
      },
      "id": "8FITU3C-24zC"
    },
    {
      "cell_type": "code",
      "source": [
        "def create_features(df, df_train=None):\n",
        "    df = df.copy()\n",
        "    eps = 1e-8\n",
        "\n",
        "    # 1. Дробные признаки\n",
        "    if 'VehOdo' in df.columns and 'VehicleAge' in df.columns:\n",
        "        df['MilesPerYear'] = df['VehOdo'] / (df['VehicleAge'] + 1)\n",
        "        # Защита от inf\n",
        "        df['MilesPerYear'] = df['MilesPerYear'].replace([np.inf, -np.inf], np.nan)\n",
        "\n",
        "    if 'PurchPrice' in df.columns and 'MMRAcquisitionAuctionAveragePrice' in df.columns:\n",
        "        df['PriceToMMR'] = df['PurchPrice'] / (df['MMRAcquisitionAuctionAveragePrice'] + eps)\n",
        "        df['PriceToMMR'] = df['PriceToMMR'].replace([np.inf, -np.inf], np.nan)\n",
        "\n",
        "    # 2. Групповые признаки\n",
        "    if 'Make' in df.columns and 'VehOdo' in df.columns and df_train is not None:\n",
        "        # Только по train\n",
        "        mean_odo = df_train.groupby('Make')['VehOdo'].mean()\n",
        "        overall_mean = mean_odo.mean()\n",
        "        # Заполняем неизвестные марки — общим средним\n",
        "        df['Make_Odo_Mean'] = df['Make'].map(mean_odo).fillna(overall_mean)\n",
        "\n",
        "    # Можно добавить и другие:\n",
        "    # if 'Auction' in df.columns and 'PurchPrice' in df.columns and df_train is not None:\n",
        "    #     price_by_auction = df_train.groupby('Auction')['PurchPrice'].mean()\n",
        "    #     df['Auction_PurchPrice_Mean'] = df['Auction'].map(price_by_auction).fillna(price_by_auction.mean())\n",
        "\n",
        "    return df"
      ],
      "metadata": {
        "id": "GWMvHNdxYQeV"
      },
      "id": "GWMvHNdxYQeV",
      "execution_count": 55,
      "outputs": []
    },
    {
      "cell_type": "markdown",
      "source": [
        "Применяем к данным"
      ],
      "metadata": {
        "id": "Y8SXxku0encz"
      },
      "id": "Y8SXxku0encz"
    },
    {
      "cell_type": "code",
      "source": [
        "X_train_enh = create_features(X_train, X_train)\n",
        "X_valid_enh = create_features(X_valid, X_train)\n",
        "X_test_enh = create_features(X_test, X_train)"
      ],
      "metadata": {
        "id": "08ABDaujZWNp"
      },
      "id": "08ABDaujZWNp",
      "execution_count": 61,
      "outputs": []
    },
    {
      "cell_type": "markdown",
      "source": [
        "Re-encode и масштабирование"
      ],
      "metadata": {
        "id": "LnPfxsHcep-f"
      },
      "id": "LnPfxsHcep-f"
    },
    {
      "cell_type": "code",
      "source": [
        "enc = CountEncoder(cols=cat_cols, handle_unknown='value', handle_missing='value')\n",
        "\n",
        "X_train_cat_enh = enc.fit_transform(X_train_enh[cat_cols])\n",
        "X_valid_cat_enh = enc.transform(X_valid_enh[cat_cols])\n",
        "X_test_cat_enh = enc.transform(X_test_enh[cat_cols])\n",
        "\n",
        "X_train_num_enh = scaler.fit_transform(X_train_enh[num_cols])\n",
        "X_valid_num_enh = scaler.transform(X_valid_enh[num_cols])\n",
        "X_test_num_enh = scaler.transform(X_test_enh[num_cols])\n",
        "\n",
        "X_train_final_enh = np.hstack([X_train_num_enh, X_train_cat_enh.values])\n",
        "X_valid_final_enh = np.hstack([X_valid_num_enh, X_valid_cat_enh.values])\n",
        "X_test_final_enh = np.hstack([X_test_num_enh, X_test_cat_enh.values])"
      ],
      "metadata": {
        "id": "teYpyIx5ZYaL"
      },
      "id": "teYpyIx5ZYaL",
      "execution_count": 62,
      "outputs": []
    },
    {
      "cell_type": "markdown",
      "source": [
        "Добавление импутации в пайплайн"
      ],
      "metadata": {
        "id": "fXm0-VeLeySr"
      },
      "id": "fXm0-VeLeySr"
    },
    {
      "cell_type": "code",
      "source": [
        "imputer = SimpleImputer(strategy='median')\n",
        "X_train_final_enh = imputer.fit_transform(X_train_final_enh)\n",
        "X_valid_final_enh = imputer.transform(X_valid_final_enh)\n",
        "X_test_final_enh = imputer.transform(X_test_final_enh)"
      ],
      "metadata": {
        "id": "RvLGu7U1bS9_"
      },
      "id": "RvLGu7U1bS9_",
      "execution_count": 63,
      "outputs": []
    },
    {
      "cell_type": "markdown",
      "source": [
        "Проверим, что NaN исчезли"
      ],
      "metadata": {
        "id": "KmVE2z4ze19y"
      },
      "id": "KmVE2z4ze19y"
    },
    {
      "cell_type": "code",
      "source": [
        "print(\"X_train_final_enh has NaN:\", np.isnan(X_train_final_enh).any())\n",
        "print(\"X_valid_final_enh has NaN:\", np.isnan(X_valid_final_enh).any())\n",
        "print(\"X_test_final_enh has NaN:\", np.isnan(X_test_final_enh).any())"
      ],
      "metadata": {
        "colab": {
          "base_uri": "https://localhost:8080/"
        },
        "id": "Y03H244ubkRu",
        "outputId": "555da91a-3098-4f26-e02c-3374bc02c256"
      },
      "id": "Y03H244ubkRu",
      "execution_count": 64,
      "outputs": [
        {
          "output_type": "stream",
          "name": "stdout",
          "text": [
            "X_train_final_enh has NaN: False\n",
            "X_valid_final_enh has NaN: False\n",
            "X_test_final_enh has NaN: False\n"
          ]
        }
      ]
    },
    {
      "cell_type": "markdown",
      "source": [
        "Обучение модели на даныых после feature engineering"
      ],
      "metadata": {
        "id": "QXP8KfqAe3S6"
      },
      "id": "QXP8KfqAe3S6"
    },
    {
      "cell_type": "code",
      "source": [
        "lr = MyLogisticRegression(learning_rate=0.001, epochs=1000, batch_size=64)\n",
        "lr.fit(X_train_final_enh, y_train)\n",
        "y_pred = lr.predict_proba(X_valid_final_enh)[:, 1]\n",
        "gini_enh = gini_score(y_valid, y_pred)\n",
        "print(f\"Gini after feature engineering: {gini_enh:.4f}\")"
      ],
      "metadata": {
        "colab": {
          "base_uri": "https://localhost:8080/"
        },
        "id": "9qUYz6QyakBC",
        "outputId": "46f66912-bc24-42ee-c454-d05dce3b7061"
      },
      "id": "9qUYz6QyakBC",
      "execution_count": 60,
      "outputs": [
        {
          "output_type": "stream",
          "name": "stdout",
          "text": [
            "Converged at epoch 203\n",
            "Gini after feature engineering: 0.1996\n"
          ]
        }
      ]
    },
    {
      "cell_type": "markdown",
      "source": [
        "### 8. Определение и подбор подходящих признаков"
      ],
      "metadata": {
        "id": "JVuCUlgRfZMN"
      },
      "id": "JVuCUlgRfZMN"
    },
    {
      "cell_type": "markdown",
      "source": [
        "С помощью коэффициентов логистичекской модели"
      ],
      "metadata": {
        "id": "mejNAcgTfkf2"
      },
      "id": "mejNAcgTfkf2"
    },
    {
      "cell_type": "code",
      "source": [
        "# Обучим модель на ваших улучшенных данных\n",
        "lr = LogisticRegression(max_iter=1000)\n",
        "lr.fit(X_train_final_enh, y_train)\n",
        "\n",
        "# Получим коэффициенты\n",
        "coefficients = lr.coef_[0]  # shape: (n_features,)"
      ],
      "metadata": {
        "id": "R_56NR-bfsFB"
      },
      "id": "R_56NR-bfsFB",
      "execution_count": 35,
      "outputs": []
    },
    {
      "cell_type": "code",
      "source": [
        "# Создадим DataFrame для удобства\n",
        "feature_names = [f\"num_{i}\" for i in range(X_train_num_enh.shape[1])] + \\\n",
        "                [f\"cat_{i}\" for i in range(X_train_cat_enh.shape[1])]\n",
        "\n",
        "import pandas as pd\n",
        "coef_df = pd.DataFrame({\n",
        "    'feature': feature_names,\n",
        "    'coefficient': coefficients,\n",
        "    'abs_coeff': np.abs(coefficients)\n",
        "}).sort_values('abs_coeff', ascending=False)\n",
        "\n",
        "print(coef_df.head(10))"
      ],
      "metadata": {
        "colab": {
          "base_uri": "https://localhost:8080/"
        },
        "id": "lVTpXlmVgqXh",
        "outputId": "620d4713-9623-447d-8782-2c18eef74530"
      },
      "id": "lVTpXlmVgqXh",
      "execution_count": 36,
      "outputs": [
        {
          "output_type": "stream",
          "name": "stdout",
          "text": [
            "   feature  coefficient  abs_coeff\n",
            "3    num_3    -0.408034   0.408034\n",
            "4    num_4     0.199537   0.199537\n",
            "1    num_1    -0.185652   0.185652\n",
            "2    num_2     0.185367   0.185367\n",
            "13  num_13    -0.131913   0.131913\n",
            "17  num_17     0.119908   0.119908\n",
            "15  num_15    -0.101355   0.101355\n",
            "0    num_0     0.096364   0.096364\n",
            "14  num_14     0.050651   0.050651\n",
            "11  num_11    -0.013723   0.013723\n"
          ]
        }
      ]
    },
    {
      "cell_type": "code",
      "source": [
        "# Выберем топ-N признаков\n",
        "n_top = 10\n",
        "top_indices = coef_df.head(n_top).index\n",
        "\n",
        "X_train_selected = X_train_final_enh[:, top_indices]\n",
        "X_valid_selected = X_valid_final_enh[:, top_indices]\n",
        "\n",
        "# Обучим и оценим\n",
        "lr_selected = LogisticRegression(max_iter=1000)\n",
        "lr_selected.fit(X_train_selected, y_train)\n",
        "y_pred = lr_selected.predict_proba(X_valid_selected)[:, 1]\n",
        "gini_manual = gini_score(y_valid, y_pred)\n",
        "\n",
        "print(f\"Gini после ручного отбора (top {n_top}): {gini_manual:.4f}\")"
      ],
      "metadata": {
        "colab": {
          "base_uri": "https://localhost:8080/"
        },
        "id": "L621xZS9glRJ",
        "outputId": "03bb3c8c-f59d-48a0-a2a9-ceba3123d812"
      },
      "id": "L621xZS9glRJ",
      "execution_count": 37,
      "outputs": [
        {
          "output_type": "stream",
          "name": "stdout",
          "text": [
            "Gini после ручного отбора (top 10): 0.3257\n"
          ]
        }
      ]
    },
    {
      "cell_type": "markdown",
      "source": [
        "С помощью L1 - регуляризации"
      ],
      "metadata": {
        "id": "esZgdhtSfsPV"
      },
      "id": "esZgdhtSfsPV"
    },
    {
      "cell_type": "code",
      "source": [
        "from sklearn.model_selection import GridSearchCV\n",
        "\n",
        "# Создаём пайплайн\n",
        "pipeline = Pipeline([\n",
        "    ('imputer', SimpleImputer(strategy='median')),  # Заполняем NaN\n",
        "    ('scaler', StandardScaler()),                   # Масштабируем\n",
        "    ('lr', LogisticRegression(\n",
        "        penalty='l1',\n",
        "        solver='saga',         # Только 'saga' поддерживает L1\n",
        "        max_iter=3000          # Достаточно итераций\n",
        "    ))\n",
        "])\n",
        "\n",
        "# Подбор C\n",
        "param_grid = {\n",
        "    'lr__C': [0.01, 0.1, 1, 10]  # C — сила регуляризации (чем меньше, тем сильнее)\n",
        "}\n",
        "\n",
        "# Поиск лучшего C по AUC\n",
        "grid = GridSearchCV(\n",
        "    pipeline,\n",
        "    param_grid,\n",
        "    scoring='roc_auc',\n",
        "    cv=3,\n",
        "    n_jobs=-1,\n",
        "    verbose=0\n",
        ")\n",
        "\n",
        "# Обучаем на ваших улучшенных признаках\n",
        "grid.fit(X_train_final_enh, y_train)\n",
        "\n",
        "# Лучшая модель\n",
        "best_model_l1 = grid.best_estimator_\n",
        "\n",
        "print(\"Лучший параметр C:\", grid.best_params_['lr__C'])\n",
        "print(\"Лучший AUC на кросс-валидации:\", grid.best_score_)"
      ],
      "metadata": {
        "colab": {
          "base_uri": "https://localhost:8080/"
        },
        "id": "aUMyzydvfyXL",
        "outputId": "f9c684f0-a328-4838-b3a4-957a8a197670"
      },
      "id": "aUMyzydvfyXL",
      "execution_count": 63,
      "outputs": [
        {
          "output_type": "stream",
          "name": "stdout",
          "text": [
            "Лучший параметр C: 0.1\n",
            "Лучший AUC на кросс-валидации: 0.7400129165737127\n"
          ]
        }
      ]
    },
    {
      "cell_type": "code",
      "source": [
        "from sklearn.metrics import roc_auc_score\n",
        "\n",
        "def gini_score(y_true, y_proba):\n",
        "    auc = roc_auc_score(y_true, y_proba)\n",
        "    return 2 * auc - 1\n",
        "\n",
        "# Предсказания на valid\n",
        "y_valid_pred_proba = best_model_l1.predict_proba(X_valid_final_enh)[:, 1]\n",
        "\n",
        "# Gini\n",
        "gini_l1 = gini_score(y_valid, y_valid_pred_proba)\n",
        "\n",
        "print(f\"\\n🎯 Gini на валидации (L1): {gini_l1:.4f}\")"
      ],
      "metadata": {
        "colab": {
          "base_uri": "https://localhost:8080/"
        },
        "id": "2_EfsXA9j33O",
        "outputId": "10bbbba2-bbbb-486c-eb23-07dfdc0c26aa"
      },
      "id": "2_EfsXA9j33O",
      "execution_count": 64,
      "outputs": [
        {
          "output_type": "stream",
          "name": "stdout",
          "text": [
            "\n",
            "🎯 Gini на валидации (L1): 0.4775\n"
          ]
        }
      ]
    },
    {
      "cell_type": "markdown",
      "source": [
        "### 9. Применение нелинейных вариантов метода опорных векторов (Бонус)"
      ],
      "metadata": {
        "id": "gV87jbu39zpj"
      },
      "id": "gV87jbu39zpj"
    },
    {
      "cell_type": "markdown",
      "source": [
        "Масштабируем (SVM чувствителен к масштабу)"
      ],
      "metadata": {
        "id": "OwE0Z4QjjftW"
      },
      "id": "OwE0Z4QjjftW"
    },
    {
      "cell_type": "code",
      "source": [
        "scaler = StandardScaler()\n",
        "X_train_scaled = scaler.fit_transform(X_train_final)\n",
        "X_valid_scaled = scaler.transform(X_valid_final)"
      ],
      "metadata": {
        "id": "9XlgMVQqQrEP"
      },
      "id": "9XlgMVQqQrEP",
      "execution_count": 89,
      "outputs": []
    },
    {
      "cell_type": "markdown",
      "source": [
        "Применяем SVC с RBF-ядром"
      ],
      "metadata": {
        "id": "GWyuJInHjjCt"
      },
      "id": "GWyuJInHjjCt"
    },
    {
      "cell_type": "code",
      "source": [
        "svc = SVC(kernel='rbf', probability=True, C=1.0, gamma='scale', random_state=42)\n",
        "svc.fit(X_train_scaled, y_train)\n",
        "print(\"Оценка на train:\", svc.score(X_train_scaled, y_train))"
      ],
      "metadata": {
        "colab": {
          "base_uri": "https://localhost:8080/"
        },
        "id": "Wg2xCqXTkZz0",
        "outputId": "b97c831b-d20b-495f-f97b-9fa1ce5fdefe"
      },
      "id": "Wg2xCqXTkZz0",
      "execution_count": 94,
      "outputs": [
        {
          "output_type": "stream",
          "name": "stdout",
          "text": [
            "Оценка на train: 0.9064524165421026\n"
          ]
        }
      ]
    },
    {
      "cell_type": "code",
      "source": [
        "imputer = SimpleImputer(strategy='median')\n",
        "X_train_imp = imputer.fit_transform(X_train_final_enh)\n",
        "X_valid_imp = imputer.transform(X_valid_final_enh)\n",
        "\n",
        "# 2. Масштабирование ВСЕГО\n",
        "scaler = StandardScaler()\n",
        "X_train_scaled = scaler.fit_transform(X_train_imp)\n",
        "X_valid_scaled = scaler.transform(X_valid_imp)\n",
        "\n",
        "# 3. Обучение SVC\n",
        "svc = SVC(kernel='rbf', probability=True, C=1.0, gamma='scale', max_iter=10000, random_state=42)\n",
        "svc.fit(X_train_scaled, y_train)\n",
        "\n",
        "# 4. Проверка классов\n",
        "print(\"Классы:\", svc.classes_)\n",
        "\n",
        "# 5. Предсказание\n",
        "y_valid_proba = svc.predict_proba(X_valid_scaled)[:, 1]\n",
        "gini_svc = 2 * roc_auc_score(y_valid, y_valid_proba) - 1\n",
        "print(f\"Исправленный SVC Gini: {gini_svc:.4f}\")"
      ],
      "metadata": {
        "colab": {
          "base_uri": "https://localhost:8080/"
        },
        "id": "mGsbuhUGjhtz",
        "outputId": "129903dd-656a-440e-c3e7-cbaca86e6238"
      },
      "id": "mGsbuhUGjhtz",
      "execution_count": 96,
      "outputs": [
        {
          "output_type": "stream",
          "name": "stdout",
          "text": [
            "Классы: [0 1]\n",
            "Исправленный SVC Gini: 0.5532\n"
          ]
        }
      ]
    },
    {
      "cell_type": "markdown",
      "source": [
        "### 10. Выбор лучшей модели и настройка гипперпараметоров"
      ],
      "metadata": {
        "id": "18wqRbx5OMJB"
      },
      "id": "18wqRbx5OMJB"
    },
    {
      "cell_type": "markdown",
      "source": [
        "Лучшая модель:\n",
        "\n",
        "LogisticRegression + улучшенные признаки (fractions + groupby) + CountEncoder + масштабирование + импутация"
      ],
      "metadata": {
        "id": "6Cc6bg6KQwnM"
      },
      "id": "6Cc6bg6KQwnM"
    },
    {
      "cell_type": "code",
      "source": [
        "pipeline = Pipeline([\n",
        "    ('imputer', SimpleImputer(strategy='median')),\n",
        "    ('scaler', StandardScaler()),\n",
        "    ('lr', LogisticRegression(max_iter=10000))\n",
        "])"
      ],
      "metadata": {
        "id": "uiwZn3TWOVx3"
      },
      "id": "uiwZn3TWOVx3",
      "execution_count": 97,
      "outputs": []
    },
    {
      "cell_type": "markdown",
      "source": [
        "Настройка через GridSearchCV"
      ],
      "metadata": {
        "id": "LdoXMRaFP1Sj"
      },
      "id": "LdoXMRaFP1Sj"
    },
    {
      "cell_type": "code",
      "source": [
        "param_grid = {\n",
        "    'lr__C': [0.01, 0.1, 1, 10, 100],\n",
        "    'lr__penalty': ['l1', 'l2'],\n",
        "    'lr__solver': ['saga']  # saga поддерживает и l1, и l2\n",
        "}\n",
        "\n",
        "# Или для elasticnet:\n",
        "# param_grid = {\n",
        "#     'lr__C': [0.1, 1, 10],\n",
        "#     'lr__penalty': ['elasticnet'],\n",
        "#     'lr__l1_ratio': [0.1, 0.5, 0.9],\n",
        "#     'lr__solver': ['saga']\n",
        "# }\n",
        "\n",
        "grid = GridSearchCV(\n",
        "    pipeline,\n",
        "    param_grid,\n",
        "    scoring='roc_auc',\n",
        "    cv=3,\n",
        "    n_jobs=-1,\n",
        "    verbose=0\n",
        ")\n",
        "\n",
        "# Обучение\n",
        "grid.fit(X_train_final_enh, y_train)\n",
        "\n",
        "print(\"Лучшие параметры:\", grid.best_params_)\n",
        "print(\"Лучший AUC (CV):\", grid.best_score_)"
      ],
      "metadata": {
        "colab": {
          "base_uri": "https://localhost:8080/"
        },
        "id": "Nc-H8n7AP0VR",
        "outputId": "8378b061-5855-4fd1-a0c7-6cfdbd3a1030"
      },
      "id": "Nc-H8n7AP0VR",
      "execution_count": 98,
      "outputs": [
        {
          "output_type": "stream",
          "name": "stdout",
          "text": [
            "Лучшие параметры: {'lr__C': 0.01, 'lr__penalty': 'l2', 'lr__solver': 'saga'}\n",
            "Лучший AUC (CV): 0.7400750911512759\n"
          ]
        }
      ]
    },
    {
      "cell_type": "markdown",
      "source": [
        "Оценка Gini на валидации"
      ],
      "metadata": {
        "id": "-IDdKmR8Qikx"
      },
      "id": "-IDdKmR8Qikx"
    },
    {
      "cell_type": "code",
      "source": [
        "def gini_score(y_true, y_proba):\n",
        "    return 2 * roc_auc_score(y_true, y_proba) - 1\n",
        "\n",
        "best_model = grid.best_estimator_\n",
        "y_valid_proba = best_model.predict_proba(X_valid_final_enh)[:, 1]\n",
        "gini_valid = gini_score(y_valid, y_valid_proba)\n",
        "\n",
        "print(f\"🎯 Final Gini (valid): {gini_valid:.4f}\")"
      ],
      "metadata": {
        "colab": {
          "base_uri": "https://localhost:8080/"
        },
        "id": "uFS0v3tPQiZo",
        "outputId": "3e14ea25-96dd-4791-8fe7-9651c14ed19d"
      },
      "id": "uFS0v3tPQiZo",
      "execution_count": 99,
      "outputs": [
        {
          "output_type": "stream",
          "name": "stdout",
          "text": [
            "🎯 Final Gini (valid): 0.4782\n"
          ]
        }
      ]
    },
    {
      "cell_type": "markdown",
      "source": [
        "### 11. Сравнение показателей Gini для всех трех наборов данных"
      ],
      "metadata": {
        "id": "o5TY6nOSOV8j"
      },
      "id": "o5TY6nOSOV8j"
    },
    {
      "cell_type": "code",
      "source": [
        "# Предсказания на всех выборках\n",
        "y_train_proba = best_model.predict_proba(X_train_final_enh)[:, 1]\n",
        "y_valid_proba = best_model.predict_proba(X_valid_final_enh)[:, 1]\n",
        "y_test_proba = best_model.predict_proba(X_test_final_enh)[:, 1]\n",
        "\n",
        "# Gini\n",
        "gini_train = gini_score(y_train, y_train_proba)\n",
        "gini_valid = gini_score(y_valid, y_valid_proba)\n",
        "gini_test = gini_score(y_test, y_test_proba)\n",
        "\n",
        "print(f\"🎯 Training Gini:   {gini_train:.4f}\")\n",
        "print(f\"🎯 Validation Gini: {gini_valid:.4f}\")\n",
        "print(f\"🎯 Test Gini:       {gini_test:.4f}\")"
      ],
      "metadata": {
        "colab": {
          "base_uri": "https://localhost:8080/"
        },
        "id": "jfYtCUFUOifc",
        "outputId": "e3bd54c2-73da-436d-d4f9-28051fbe8cd3"
      },
      "id": "jfYtCUFUOifc",
      "execution_count": 100,
      "outputs": [
        {
          "output_type": "stream",
          "name": "stdout",
          "text": [
            "🎯 Training Gini:   0.4982\n",
            "🎯 Validation Gini: 0.4782\n",
            "🎯 Test Gini:       0.3047\n"
          ]
        }
      ]
    },
    {
      "cell_type": "markdown",
      "source": [
        "### 12. Реализация расчета показателей Recall, Precision, F1 score, AUC PR"
      ],
      "metadata": {
        "id": "tMnnci3OOi2W"
      },
      "id": "tMnnci3OOi2W"
    },
    {
      "cell_type": "code",
      "source": [
        "def precision_recall_f1_aucpr(y_true, y_proba, threshold=0.5):\n",
        "    # Бинаризуем предсказания\n",
        "    y_pred = (y_proba >= threshold).astype(int)\n",
        "\n",
        "    # Стандартные метрики\n",
        "    precision = precision_score(y_true, y_pred)\n",
        "    recall = recall_score(y_true, y_pred)\n",
        "    f1 = f1_score(y_true, y_pred)\n",
        "\n",
        "    # AUC PR = Average Precision\n",
        "    auc_pr = average_precision_score(y_true, y_proba)\n",
        "\n",
        "    return precision, recall, f1, auc_pr"
      ],
      "metadata": {
        "id": "xhtvLseXO1yS"
      },
      "id": "xhtvLseXO1yS",
      "execution_count": 83,
      "outputs": []
    },
    {
      "cell_type": "markdown",
      "source": [
        "Обучим модели и сравним на test"
      ],
      "metadata": {
        "id": "bFP8X_dAmlJe"
      },
      "id": "bFP8X_dAmlJe"
    },
    {
      "cell_type": "code",
      "source": [
        "models = {\n",
        "    'LogisticRegression': LogisticRegression(max_iter = 1000),\n",
        "    'GaussianNB': GaussianNB(),\n",
        "    'KNN': KNeighborsClassifier(n_neighbors = 5)\n",
        "}\n",
        "\n",
        "# Обучение\n",
        "for name, model in models.items():\n",
        "    model.fit(X_train_final_enh, y_train)\n",
        "\n",
        "# Оценка на test\n",
        "print(\"=== Test Metrics (AUC PR) ===\")\n",
        "results = {}\n",
        "for name, model in models.items():\n",
        "    # Предсказания\n",
        "    y_proba = model.predict_proba(X_test_final_enh)[:, 1]\n",
        "\n",
        "    # Метрики\n",
        "    prec, rec, f1, auc_pr = precision_recall_f1_aucpr(y_test, y_proba)\n",
        "    results[name] = {'Precision': prec, 'Recall': rec, 'F1': f1, 'AUC PR': auc_pr}\n",
        "\n",
        "    print(f\"{name} - Prec: {prec:.3f}, Rec: {rec:.3f}, F1: {f1:.3f}, AUC PR: {auc_pr:.3f}\")"
      ],
      "metadata": {
        "colab": {
          "base_uri": "https://localhost:8080/"
        },
        "id": "-uS8F65IhYTC",
        "outputId": "3974de31-40c6-4c1a-feaa-fb74de3c0d8c"
      },
      "id": "-uS8F65IhYTC",
      "execution_count": 87,
      "outputs": [
        {
          "output_type": "stream",
          "name": "stdout",
          "text": [
            "=== Test Metrics (AUC PR) ===\n",
            "LogisticRegression - Prec: 0.812, Rec: 0.226, F1: 0.354, AUC PR: 0.442\n",
            "GaussianNB - Prec: 0.056, Rec: 0.064, F1: 0.060, AUC PR: 0.164\n",
            "KNN - Prec: 0.376, Rec: 0.232, F1: 0.287, AUC PR: 0.249\n"
          ]
        }
      ]
    },
    {
      "cell_type": "markdown",
      "source": [
        "### 13. Лучший метрический показатель для \"lemon\" cars"
      ],
      "metadata": {
        "id": "m67qx6FYO2C8"
      },
      "id": "m67qx6FYO2C8"
    },
    {
      "cell_type": "markdown",
      "source": [
        "Лучшая hard-label метрика:\n",
        "**Recall**"
      ],
      "metadata": {
        "id": "jCMxr9IJPCEl"
      },
      "id": "jCMxr9IJPCEl"
    },
    {
      "cell_type": "markdown",
      "source": [
        "Цель бизнеса: минимизировать убытки от покупки \"lemon\"\n",
        "\n",
        "False Negative (FN): купили плохую машину → огромные убытки\n",
        "False Positive (FP): отклонили хорошую машину → потеря сделки, но не катастрофа.\n",
        "Мы гораздо больше боимся пропустить \"lemon\", чем случайно отклонить хороший авто."
      ],
      "metadata": {
        "id": "4IK31vRuiPci"
      },
      "id": "4IK31vRuiPci"
    }
  ],
  "metadata": {
    "kernelspec": {
      "display_name": "",
      "name": ""
    },
    "language_info": {
      "name": ""
    },
    "colab": {
      "provenance": [],
      "gpuType": "T4"
    },
    "accelerator": "GPU"
  },
  "nbformat": 4,
  "nbformat_minor": 5
}